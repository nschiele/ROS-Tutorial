{
 "cells": [
  {
   "cell_type": "markdown",
   "metadata": {},
   "source": [
    "## Die erste eigene ROS Node\n",
    "\n",
    "In dieser Übung erzeugen wir eine erste [**ROS Node**](http://wiki.ros.org/Nodes) und verbinden sie mit dem ROS Netzwerk.\n",
    "Dazu müssen wir eine Node erzeugen und sie beim Verteiler, dem [**roscore**](http://wiki.ros.org/roscore), registrieren.\n",
    "Prinzipiell können wir jede beliebige IP Adresse angeben, unter dem der roscore erreichbar ist. Hier benutzen wir den lokalen roscore Server, sodass wir die Standardeinstellungen nutzen können.\n"
   ]
  },
  {
   "cell_type": "markdown",
   "metadata": {},
   "source": [
    "Wir werden den Großteil des Codes in [Python 2.7](https://docs.python.org/2.7/) nutzen und dabei auf die [Python Bibliotheken von ROS](http://wiki.ros.org/rospy) zurückgreifen.\n",
    "\n",
    "Mit Python zu Programmieren ist relativ einfach und erfordert keinen großen Prozess um den Code ausführbar zu machen, was uns entgegen kommt\n",
    "\n",
    "Zunächst importieren wir einige wichtige Bilbiotheken die wir im Verlauf benötigen werden.\n",
    "Eine Zelle (Markiert durch ein **In[ ]** davor) kann mit der Tastenkombination Shift + Enter ausgeführt, wenn ihr sie markiert habt. Wenn sie erfolgreich ausgeführt wurde, erscheint eine Zahl in den Klammern, die eine fortlaufende Nummer in der Ausführung darstellt.\n",
    "\n",
    "Nachdem ihr die Zelle ausgeführt habt, sollte davor ein **In [1]** erscheinen"
   ]
  },
  {
   "cell_type": "code",
   "execution_count": 1,
   "metadata": {},
   "outputs": [],
   "source": [
    "import rospy\n",
    "import roslaunch\n",
    "import rosnode\n",
    "import os\n",
    "import subprocess"
   ]
  },
  {
   "cell_type": "markdown",
   "metadata": {},
   "source": [
    "Wir starten nun den Verteiler für die Kommunikation, den **roscore**"
   ]
  },
  {
   "cell_type": "code",
   "execution_count": 2,
   "metadata": {},
   "outputs": [],
   "source": [
    "roscore_process=subprocess.Popen([\"roscore\"])"
   ]
  },
  {
   "cell_type": "markdown",
   "metadata": {},
   "source": [
    "Wir können nun die bereits existierenden **Nodes** anzeigen lassen. Mit dem Befehl *\"get_node_names()\"* können wir alle Nodes auflisten:"
   ]
  },
  {
   "cell_type": "code",
   "execution_count": 3,
   "metadata": {},
   "outputs": [
    {
     "data": {
      "text/plain": [
       "['/rosout']"
      ]
     },
     "execution_count": 3,
     "metadata": {},
     "output_type": "execute_result"
    }
   ],
   "source": [
    "rosnode.get_node_names()"
   ]
  },
  {
   "cell_type": "markdown",
   "metadata": {},
   "source": [
    "Neue Nodes lassen sich durch den Befehl *.init_node(name)* erzeugen. Gebt euren eigenen Node Namen an!"
   ]
  },
  {
   "cell_type": "code",
   "execution_count": 4,
   "metadata": {},
   "outputs": [],
   "source": [
    "node_name = \"Meine_Lieblingsnode\";\n",
    "rospy.init_node(node_name, anonymous=True)"
   ]
  },
  {
   "cell_type": "markdown",
   "metadata": {},
   "source": [
    "Wir können jetzt sehen, dass die neue Node erzeugt wurde. Lasst euch nochmal die Namen aller Nodes anzeigen! "
   ]
  },
  {
   "cell_type": "code",
   "execution_count": 5,
   "metadata": {},
   "outputs": [],
   "source": [
    "# Hier den code einfügen, um die Namen aller Nodes Anzeigen zu lassen!"
   ]
  },
  {
   "cell_type": "markdown",
   "metadata": {},
   "source": [
    "## Kommunizieren in ROS: Topics, Services, Parameter\n",
    "\n",
    "Für die Kommunikation der verschiedenen ROS Nodes untereinander stellt das ROS Framework für verschiedene Zwecke entsprechende Möglichkeiten zur Verfügung.\n",
    "\n",
    "Kurz zusammengefasst:\n",
    "**Topics** sind einfache Kommunikationskanäle, in die jede Node schreiben kann, solange das *Format* korrekt ist. Jede Node kann auch ohne Verzögerung daraus lesen.\n",
    "\n",
    "Ein typisches **Topic** wäre zum Beispiel die Information über die Temperatur. Der Temperatursensor publiziert hierbei als *Publisher* die aktuelle Temperatur in regelmäßigen Abständen. Es ist hier für den Temperatursensor unwichtig, Rückmeldung zu bekommen, was mit den Daten geschieht oder was daraus berechnet wird. Verschiedene andere Nodes, die z.B. den Temperaturverlauf visualisieren oder eine Glatteiswarnung herausgeben, lesen die Information, die auf dem Topic veröffentlich wird. Man nennt sie *Subscriber*\n",
    "\n",
    "**Services** sind hingegen bilaterale Kommunikationskanäle, d.h. eine Node stellt eine Anfrage und wartet auf eine Antwort von einer anderen Node. \n",
    "\n",
    "Ein typischer **Service** wird zum Beispiel von einer Bildverarbeitungsnode bereitgestellt. Soll auf einem Bild bespielsweise ein Objekt detektiert werden, so wird der Bildverarbeitungsnode ein Bild per *service call* zur verfügung gestellt. Diese führt nun den Detektionsalgorithmus aus und liefert in der Antwort die Position des Objektes zurück.\n",
    "\n",
    "**Parameter** sind dagegen eine gemeinsame Datenbank von Werten, die von vielen *Nodes* benötigt werden. Üblicherweise werden hier nicht- bzw. nur spordische veränderliche Werte bereitgestellt, die nur selten verarbeitet werden, wie z.B. die Hardwarekonfiguration der Roboter."
   ]
  },
  {
   "cell_type": "markdown",
   "metadata": {},
   "source": [
    "## Der erste Roboter: *TurtleBot*\n",
    "\n",
    "Beginnen wir mit dem ersten Roboter, den man über Simulation (*TurtleSim*), aber auch potenziell als reale Hardware über ROS steuern kann - dem *TurtleBot*\n",
    "\n",
    "![](img/TurtleBot2.jpg)\n"
   ]
  },
  {
   "cell_type": "code",
   "execution_count": 16,
   "metadata": {},
   "outputs": [
    {
     "name": "stdout",
     "output_type": "stream",
     "text": [
      "\u001b[1mstarted roslaunch server http://danbn-ESPRIMO-E710:38897/\u001b[0m\n",
      "\n",
      "SUMMARY\n",
      "========\n",
      "\n",
      "PARAMETERS\n",
      " * /rosdistro: kinetic\n",
      " * /rosversion: 1.12.14\n",
      "\n",
      "NODES\n",
      "\n",
      "\u001b[1mROS_MASTER_URI=http://localhost:11311\u001b[0m\n",
      "\u001b[1mprocess[turtlesim_node-2]: started with pid [17961]\u001b[0m\n"
     ]
    },
    {
     "data": {
      "text/plain": [
       "<roslaunch.nodeprocess.LocalProcess at 0x7fac4c094590>"
      ]
     },
     "execution_count": 16,
     "metadata": {},
     "output_type": "execute_result"
    },
    {
     "name": "stdout",
     "output_type": "stream",
     "text": [
      "\u001b[1m[turtlesim_node-1] process has finished cleanly\n",
      "log file: /home/danb-n/.ros/log/bde5a468-61bc-11e9-bcdd-901b0e197e59/turtlesim_node-1*.log\u001b[0m\n"
     ]
    }
   ],
   "source": [
    "# Einfach diese Zelle ausführen um die TurtleSim Simulation zu starten!\n",
    "\n",
    "launch = roslaunch.scriptapi.ROSLaunch()\n",
    "launch.start()\n",
    "node1=roslaunch.core.Node(\"turtlesim\", \"turtlesim_node\",name=\"turtlesim_node\")\n",
    "launch.launch(node1)"
   ]
  },
  {
   "cell_type": "markdown",
   "metadata": {},
   "source": [
    "Cool! Ihr solltet jetzt einen kleinen Schildkrötenroboter in einem seperaten Fenster sehen!\n",
    "\n",
    "Die Simulation hat bereits ein Inferface zu ROS, es ist also leicht möglich, den Roboter Befehle über die ROS Kommunikationskanäle zu geben.\n",
    "\n",
    "Lasst uns mal schauen, wie wir mit dem Roboter kommunizieren können!"
   ]
  },
  {
   "cell_type": "markdown",
   "metadata": {},
   "source": [
    "### ROS Topic\n",
    "\n",
    "Fangen wir mal mit einem **Topic** an. Mit **!rostopic** lassen sich alle Kommunikationskanäle anzeigen, die registriert sind.\n"
   ]
  },
  {
   "cell_type": "markdown",
   "metadata": {},
   "source": [
    "Lasst uns zunächst einmal sehen, welche Topics überhaupt von TurtleSim zur Verfügung gestellt werden"
   ]
  },
  {
   "cell_type": "code",
   "execution_count": 7,
   "metadata": {},
   "outputs": [
    {
     "name": "stdout",
     "output_type": "stream",
     "text": [
      "/rosout\r\n",
      "/rosout_agg\r\n"
     ]
    }
   ],
   "source": [
    "!rostopic list"
   ]
  },
  {
   "cell_type": "markdown",
   "metadata": {},
   "source": [
    "Aha! Die Node \"turtle1\" stellt 3 Kanäle zur Verfügung\n",
    "* color_sensor - was irrelevant ist für uns zunächst\n",
    "* pose - bei dem die aktuelle Position publiziert wird\n",
    "* cmd_vel - bei der man die Geschwindigkeit senden kann\n",
    "\n",
    "Jedes Topic hat dabei ein bestimmtes Format - dieses kann man mit\n",
    "\n",
    "*!rostopic info topic_name* \n",
    "\n",
    "anzeigen lassen:"
   ]
  },
  {
   "cell_type": "code",
   "execution_count": 8,
   "metadata": {},
   "outputs": [
    {
     "name": "stdout",
     "output_type": "stream",
     "text": [
      "ERROR: Unknown topic /turtle1/pose\r\n"
     ]
    }
   ],
   "source": [
    "!rostopic info /turtle1/pose"
   ]
  },
  {
   "cell_type": "markdown",
   "metadata": {},
   "source": [
    "Hier sehen wir, dass \n",
    "* Das Topic vom Typ *turtlesim/Pose* ist\n",
    "* Dass eine Node in das Topic schreibt\n",
    "* Dass niemand auf dem Topic regelmäßig liest (*Subscribers*)\n",
    "\n",
    "Wir können jetzt einmal lesen, was für Informationen dort veröffentlicht werden.\n",
    "Dazu müssen wir die Formatdefinition (als ein *.msg* File bereits vordefiniert) angeben und das Topic.\n",
    "\n",
    "Dazu nutzen wir die Funktion *wait_for_message*"
   ]
  },
  {
   "cell_type": "code",
   "execution_count": 9,
   "metadata": {},
   "outputs": [
    {
     "data": {
      "text/plain": [
       "x: 5.544444561\n",
       "y: 5.544444561\n",
       "theta: 0.0\n",
       "linear_velocity: 0.0\n",
       "angular_velocity: 0.0"
      ]
     },
     "execution_count": 9,
     "metadata": {},
     "output_type": "execute_result"
    }
   ],
   "source": [
    "from turtlesim.msg import Pose\n",
    "\n",
    "rospy.wait_for_message(\"/turtle1/pose\", Pose, timeout=1) "
   ]
  },
  {
   "cell_type": "markdown",
   "metadata": {},
   "source": [
    "Um schnell nachzusehen, welche Informationen eine beliebige Funktion benötigt, kann man übrigens einfach ein ? davor oder dahinter stellen:"
   ]
  },
  {
   "cell_type": "code",
   "execution_count": 10,
   "metadata": {},
   "outputs": [],
   "source": [
    "rospy.wait_for_message?"
   ]
  },
  {
   "cell_type": "markdown",
   "metadata": {},
   "source": [
    "In ROS sind bereits verschiedene Formatdefinitionen (*messages*) vordefiniert. Man kann sie sich leicht auflisten lassen und genauere Informationen darüber abrufen:"
   ]
  },
  {
   "cell_type": "code",
   "execution_count": 11,
   "metadata": {},
   "outputs": [
    {
     "name": "stdout",
     "output_type": "stream",
     "text": [
      "actionlib/TestAction\n",
      "actionlib/TestActionFeedback\n",
      "actionlib/TestActionGoal\n",
      "actionlib/TestActionResult\n",
      "actionlib/TestFeedback\n",
      "actionlib/TestGoal\n",
      "actionlib/TestRequestAction\n",
      "actionlib/TestRequestActionFeedback\n",
      "actionlib/TestRequestActionGoal\n",
      "actionlib/TestRequestActionResult\n",
      "actionlib/TestRequestFeedback\n",
      "actionlib/TestRequestGoal\n",
      "actionlib/TestRequestResult\n",
      "actionlib/TestResult\n",
      "actionlib/TwoIntsAction\n",
      "actionlib/TwoIntsActionFeedback\n",
      "actionlib/TwoIntsActionGoal\n",
      "actionlib/TwoIntsActionResult\n",
      "actionlib/TwoIntsFeedback\n",
      "actionlib/TwoIntsGoal\n",
      "actionlib/TwoIntsResult\n",
      "actionlib_msgs/GoalID\n",
      "actionlib_msgs/GoalStatus\n",
      "actionlib_msgs/GoalStatusArray\n",
      "actionlib_tutorials/AveragingAction\n",
      "actionlib_tutorials/AveragingActionFeedback\n",
      "actionlib_tutorials/AveragingActionGoal\n",
      "actionlib_tutorials/AveragingActionResult\n",
      "actionlib_tutorials/AveragingFeedback\n",
      "actionlib_tutorials/AveragingGoal\n",
      "actionlib_tutorials/AveragingResult\n",
      "actionlib_tutorials/FibonacciAction\n",
      "actionlib_tutorials/FibonacciActionFeedback\n",
      "actionlib_tutorials/FibonacciActionGoal\n",
      "actionlib_tutorials/FibonacciActionResult\n",
      "actionlib_tutorials/FibonacciFeedback\n",
      "actionlib_tutorials/FibonacciGoal\n",
      "actionlib_tutorials/FibonacciResult\n",
      "base_local_planner/Position2DInt\n",
      "bond/Constants\n",
      "bond/Status\n",
      "control_msgs/FollowJointTrajectoryAction\n",
      "control_msgs/FollowJointTrajectoryActionFeedback\n",
      "control_msgs/FollowJointTrajectoryActionGoal\n",
      "control_msgs/FollowJointTrajectoryActionResult\n",
      "control_msgs/FollowJointTrajectoryFeedback\n",
      "control_msgs/FollowJointTrajectoryGoal\n",
      "control_msgs/FollowJointTrajectoryResult\n",
      "control_msgs/GripperCommand\n",
      "control_msgs/GripperCommandAction\n",
      "control_msgs/GripperCommandActionFeedback\n",
      "control_msgs/GripperCommandActionGoal\n",
      "control_msgs/GripperCommandActionResult\n",
      "control_msgs/GripperCommandFeedback\n",
      "control_msgs/GripperCommandGoal\n",
      "control_msgs/GripperCommandResult\n",
      "control_msgs/JointControllerState\n",
      "control_msgs/JointJog\n",
      "control_msgs/JointTolerance\n",
      "control_msgs/JointTrajectoryAction\n",
      "control_msgs/JointTrajectoryActionFeedback\n",
      "control_msgs/JointTrajectoryActionGoal\n",
      "control_msgs/JointTrajectoryActionResult\n",
      "control_msgs/JointTrajectoryControllerState\n",
      "control_msgs/JointTrajectoryFeedback\n",
      "control_msgs/JointTrajectoryGoal\n",
      "control_msgs/JointTrajectoryResult\n",
      "control_msgs/PidState\n",
      "control_msgs/PointHeadAction\n",
      "control_msgs/PointHeadActionFeedback\n",
      "control_msgs/PointHeadActionGoal\n",
      "control_msgs/PointHeadActionResult\n",
      "control_msgs/PointHeadFeedback\n",
      "control_msgs/PointHeadGoal\n",
      "control_msgs/PointHeadResult\n",
      "control_msgs/SingleJointPositionAction\n",
      "control_msgs/SingleJointPositionActionFeedback\n",
      "control_msgs/SingleJointPositionActionGoal\n",
      "control_msgs/SingleJointPositionActionResult\n",
      "control_msgs/SingleJointPositionFeedback\n",
      "control_msgs/SingleJointPositionGoal\n",
      "control_msgs/SingleJointPositionResult\n",
      "controller_manager_msgs/ControllerState\n",
      "controller_manager_msgs/ControllerStatistics\n",
      "controller_manager_msgs/ControllersStatistics\n",
      "controller_manager_msgs/HardwareInterfaceResources\n",
      "costmap_2d/VoxelGrid\n",
      "diagnostic_msgs/DiagnosticArray\n",
      "diagnostic_msgs/DiagnosticStatus\n",
      "diagnostic_msgs/KeyValue\n",
      "dynamic_reconfigure/BoolParameter\n",
      "dynamic_reconfigure/Config\n",
      "dynamic_reconfigure/ConfigDescription\n",
      "dynamic_reconfigure/DoubleParameter\n",
      "dynamic_reconfigure/Group\n",
      "dynamic_reconfigure/GroupState\n",
      "dynamic_reconfigure/IntParameter\n",
      "dynamic_reconfigure/ParamDescription\n",
      "dynamic_reconfigure/SensorLevels\n",
      "dynamic_reconfigure/StrParameter\n",
      "gazebo_msgs/ContactState\n",
      "gazebo_msgs/ContactsState\n",
      "gazebo_msgs/LinkState\n",
      "gazebo_msgs/LinkStates\n",
      "gazebo_msgs/ModelState\n",
      "gazebo_msgs/ModelStates\n",
      "gazebo_msgs/ODEJointProperties\n",
      "gazebo_msgs/ODEPhysics\n",
      "gazebo_msgs/WorldState\n",
      "geographic_msgs/BoundingBox\n",
      "geographic_msgs/GeoPath\n",
      "geographic_msgs/GeoPoint\n",
      "geographic_msgs/GeoPointStamped\n",
      "geographic_msgs/GeoPose\n",
      "geographic_msgs/GeoPoseStamped\n",
      "geographic_msgs/GeographicMap\n",
      "geographic_msgs/GeographicMapChanges\n",
      "geographic_msgs/KeyValue\n",
      "geographic_msgs/MapFeature\n",
      "geographic_msgs/RouteNetwork\n",
      "geographic_msgs/RoutePath\n",
      "geographic_msgs/RouteSegment\n",
      "geographic_msgs/WayPoint\n",
      "geometry_msgs/Accel\n",
      "geometry_msgs/AccelStamped\n",
      "geometry_msgs/AccelWithCovariance\n",
      "geometry_msgs/AccelWithCovarianceStamped\n",
      "geometry_msgs/Inertia\n",
      "geometry_msgs/InertiaStamped\n",
      "geometry_msgs/Point\n",
      "geometry_msgs/Point32\n",
      "geometry_msgs/PointStamped\n",
      "geometry_msgs/Polygon\n",
      "geometry_msgs/PolygonStamped\n",
      "geometry_msgs/Pose\n",
      "geometry_msgs/Pose2D\n",
      "geometry_msgs/PoseArray\n",
      "geometry_msgs/PoseStamped\n",
      "geometry_msgs/PoseWithCovariance\n",
      "geometry_msgs/PoseWithCovarianceStamped\n",
      "geometry_msgs/Quaternion\n",
      "geometry_msgs/QuaternionStamped\n",
      "geometry_msgs/Transform\n",
      "geometry_msgs/TransformStamped\n",
      "geometry_msgs/Twist\n",
      "geometry_msgs/TwistStamped\n",
      "geometry_msgs/TwistWithCovariance\n",
      "geometry_msgs/TwistWithCovarianceStamped\n",
      "geometry_msgs/Vector3\n",
      "geometry_msgs/Vector3Stamped\n",
      "geometry_msgs/Wrench\n",
      "geometry_msgs/WrenchStamped\n",
      "map_msgs/OccupancyGridUpdate\n",
      "map_msgs/PointCloud2Update\n",
      "map_msgs/ProjectedMap\n",
      "map_msgs/ProjectedMapInfo\n",
      "move_base_msgs/MoveBaseAction\n",
      "move_base_msgs/MoveBaseActionFeedback\n",
      "move_base_msgs/MoveBaseActionGoal\n",
      "move_base_msgs/MoveBaseActionResult\n",
      "move_base_msgs/MoveBaseFeedback\n",
      "move_base_msgs/MoveBaseGoal\n",
      "move_base_msgs/MoveBaseResult\n",
      "moveit_msgs/AllowedCollisionEntry\n",
      "moveit_msgs/AllowedCollisionMatrix\n",
      "moveit_msgs/AttachedCollisionObject\n",
      "moveit_msgs/BoundingVolume\n",
      "moveit_msgs/CollisionObject\n",
      "moveit_msgs/ConstraintEvalResult\n",
      "moveit_msgs/Constraints\n",
      "moveit_msgs/ContactInformation\n",
      "moveit_msgs/CostSource\n",
      "moveit_msgs/DisplayRobotState\n",
      "moveit_msgs/DisplayTrajectory\n",
      "moveit_msgs/ExecuteTrajectoryAction\n",
      "moveit_msgs/ExecuteTrajectoryActionFeedback\n",
      "moveit_msgs/ExecuteTrajectoryActionGoal\n",
      "moveit_msgs/ExecuteTrajectoryActionResult\n",
      "moveit_msgs/ExecuteTrajectoryFeedback\n",
      "moveit_msgs/ExecuteTrajectoryGoal\n",
      "moveit_msgs/ExecuteTrajectoryResult\n",
      "moveit_msgs/Grasp\n",
      "moveit_msgs/GripperTranslation\n",
      "moveit_msgs/JointConstraint\n",
      "moveit_msgs/JointLimits\n",
      "moveit_msgs/KinematicSolverInfo\n",
      "moveit_msgs/LinkPadding\n",
      "moveit_msgs/LinkScale\n",
      "moveit_msgs/MotionPlanDetailedResponse\n",
      "moveit_msgs/MotionPlanRequest\n",
      "moveit_msgs/MotionPlanResponse\n",
      "moveit_msgs/MoveGroupAction\n",
      "moveit_msgs/MoveGroupActionFeedback\n",
      "moveit_msgs/MoveGroupActionGoal\n",
      "moveit_msgs/MoveGroupActionResult\n",
      "moveit_msgs/MoveGroupFeedback\n",
      "moveit_msgs/MoveGroupGoal\n",
      "moveit_msgs/MoveGroupResult\n",
      "moveit_msgs/MoveItErrorCodes\n",
      "moveit_msgs/ObjectColor\n",
      "moveit_msgs/OrientationConstraint\n",
      "moveit_msgs/OrientedBoundingBox\n",
      "moveit_msgs/PickupAction\n",
      "moveit_msgs/PickupActionFeedback\n",
      "moveit_msgs/PickupActionGoal\n",
      "moveit_msgs/PickupActionResult\n",
      "moveit_msgs/PickupFeedback\n",
      "moveit_msgs/PickupGoal\n",
      "moveit_msgs/PickupResult\n",
      "moveit_msgs/PlaceAction\n",
      "moveit_msgs/PlaceActionFeedback\n",
      "moveit_msgs/PlaceActionGoal\n",
      "moveit_msgs/PlaceActionResult\n",
      "moveit_msgs/PlaceFeedback\n",
      "moveit_msgs/PlaceGoal\n",
      "moveit_msgs/PlaceLocation\n",
      "moveit_msgs/PlaceResult\n",
      "moveit_msgs/PlannerInterfaceDescription\n",
      "moveit_msgs/PlannerParams\n",
      "moveit_msgs/PlanningOptions\n",
      "moveit_msgs/PlanningScene\n",
      "moveit_msgs/PlanningSceneComponents\n",
      "moveit_msgs/PlanningSceneWorld\n",
      "moveit_msgs/PositionConstraint\n",
      "moveit_msgs/PositionIKRequest\n",
      "moveit_msgs/RobotState\n",
      "moveit_msgs/RobotTrajectory\n",
      "moveit_msgs/TrajectoryConstraints\n",
      "moveit_msgs/VisibilityConstraint\n",
      "moveit_msgs/WorkspaceParameters\n",
      "nav_msgs/GetMapAction\n",
      "nav_msgs/GetMapActionFeedback\n",
      "nav_msgs/GetMapActionGoal\n",
      "nav_msgs/GetMapActionResult\n",
      "nav_msgs/GetMapFeedback\n",
      "nav_msgs/GetMapGoal\n",
      "nav_msgs/GetMapResult\n",
      "nav_msgs/GridCells\n",
      "nav_msgs/MapMetaData\n",
      "nav_msgs/OccupancyGrid\n",
      "nav_msgs/Odometry\n",
      "nav_msgs/Path\n",
      "object_recognition_msgs/ObjectInformation\n",
      "object_recognition_msgs/ObjectRecognitionAction\n",
      "object_recognition_msgs/ObjectRecognitionActionFeedback\n",
      "object_recognition_msgs/ObjectRecognitionActionGoal\n",
      "object_recognition_msgs/ObjectRecognitionActionResult\n",
      "object_recognition_msgs/ObjectRecognitionFeedback\n",
      "object_recognition_msgs/ObjectRecognitionGoal\n",
      "object_recognition_msgs/ObjectRecognitionResult\n",
      "object_recognition_msgs/ObjectType\n",
      "object_recognition_msgs/RecognizedObject\n",
      "object_recognition_msgs/RecognizedObjectArray\n",
      "object_recognition_msgs/Table\n",
      "object_recognition_msgs/TableArray\n",
      "octomap_msgs/Octomap\n",
      "octomap_msgs/OctomapWithPose\n",
      "pcl_msgs/ModelCoefficients\n",
      "pcl_msgs/PointIndices\n",
      "pcl_msgs/PolygonMesh\n",
      "pcl_msgs/Vertices\n",
      "roscpp/Logger\n",
      "rosgraph_msgs/Clock\n",
      "rosgraph_msgs/Log\n",
      "rosgraph_msgs/TopicStatistics\n",
      "rospy_tutorials/Floats\n",
      "rospy_tutorials/HeaderString\n",
      "sensor_msgs/BatteryState\n",
      "sensor_msgs/CameraInfo\n",
      "sensor_msgs/ChannelFloat32\n",
      "sensor_msgs/CompressedImage\n",
      "sensor_msgs/FluidPressure\n",
      "sensor_msgs/Illuminance\n",
      "sensor_msgs/Image\n",
      "sensor_msgs/Imu\n",
      "sensor_msgs/JointState\n",
      "sensor_msgs/Joy\n",
      "sensor_msgs/JoyFeedback\n",
      "sensor_msgs/JoyFeedbackArray\n",
      "sensor_msgs/LaserEcho\n",
      "sensor_msgs/LaserScan\n",
      "sensor_msgs/MagneticField\n",
      "sensor_msgs/MultiDOFJointState\n",
      "sensor_msgs/MultiEchoLaserScan\n",
      "sensor_msgs/NavSatFix\n",
      "sensor_msgs/NavSatStatus\n",
      "sensor_msgs/PointCloud\n",
      "sensor_msgs/PointCloud2\n",
      "sensor_msgs/PointField\n",
      "sensor_msgs/Range\n",
      "sensor_msgs/RegionOfInterest\n",
      "sensor_msgs/RelativeHumidity\n",
      "sensor_msgs/Temperature\n",
      "sensor_msgs/TimeReference\n",
      "shape_msgs/Mesh\n",
      "shape_msgs/MeshTriangle\n",
      "shape_msgs/Plane\n",
      "shape_msgs/SolidPrimitive\n",
      "smach_msgs/SmachContainerInitialStatusCmd\n",
      "smach_msgs/SmachContainerStatus\n",
      "smach_msgs/SmachContainerStructure\n",
      "std_msgs/Bool\n",
      "std_msgs/Byte\n",
      "std_msgs/ByteMultiArray\n",
      "std_msgs/Char\n",
      "std_msgs/ColorRGBA\n",
      "std_msgs/Duration\n",
      "std_msgs/Empty\n",
      "std_msgs/Float32\n",
      "std_msgs/Float32MultiArray\n",
      "std_msgs/Float64\n",
      "std_msgs/Float64MultiArray\n",
      "std_msgs/Header\n",
      "std_msgs/Int16\n",
      "std_msgs/Int16MultiArray\n",
      "std_msgs/Int32\n",
      "std_msgs/Int32MultiArray\n",
      "std_msgs/Int64\n",
      "std_msgs/Int64MultiArray\n",
      "std_msgs/Int8\n",
      "std_msgs/Int8MultiArray\n",
      "std_msgs/MultiArrayDimension\n",
      "std_msgs/MultiArrayLayout\n",
      "std_msgs/String\n",
      "std_msgs/Time\n",
      "std_msgs/UInt16\n",
      "std_msgs/UInt16MultiArray\n",
      "std_msgs/UInt32\n",
      "std_msgs/UInt32MultiArray\n",
      "std_msgs/UInt64\n",
      "std_msgs/UInt64MultiArray\n",
      "std_msgs/UInt8\n",
      "std_msgs/UInt8MultiArray\n",
      "stereo_msgs/DisparityImage\n",
      "tf/tfMessage\n"
     ]
    },
    {
     "name": "stdout",
     "output_type": "stream",
     "text": [
      "tf2_msgs/LookupTransformAction\r\n",
      "tf2_msgs/LookupTransformActionFeedback\r\n",
      "tf2_msgs/LookupTransformActionGoal\r\n",
      "tf2_msgs/LookupTransformActionResult\r\n",
      "tf2_msgs/LookupTransformFeedback\r\n",
      "tf2_msgs/LookupTransformGoal\r\n",
      "tf2_msgs/LookupTransformResult\r\n",
      "tf2_msgs/TF2Error\r\n",
      "tf2_msgs/TFMessage\r\n",
      "theora_image_transport/Packet\r\n",
      "trajectory_msgs/JointTrajectory\r\n",
      "trajectory_msgs/JointTrajectoryPoint\r\n",
      "trajectory_msgs/MultiDOFJointTrajectory\r\n",
      "trajectory_msgs/MultiDOFJointTrajectoryPoint\r\n",
      "turtle_actionlib/ShapeAction\r\n",
      "turtle_actionlib/ShapeActionFeedback\r\n",
      "turtle_actionlib/ShapeActionGoal\r\n",
      "turtle_actionlib/ShapeActionResult\r\n",
      "turtle_actionlib/ShapeFeedback\r\n",
      "turtle_actionlib/ShapeGoal\r\n",
      "turtle_actionlib/ShapeResult\r\n",
      "turtle_actionlib/Velocity\r\n",
      "turtlesim/Color\r\n",
      "turtlesim/Pose\r\n",
      "ur_msgs/Analog\r\n",
      "ur_msgs/Digital\r\n",
      "ur_msgs/IOStates\r\n",
      "ur_msgs/MasterboardDataMsg\r\n",
      "ur_msgs/RobotStateRTMsg\r\n",
      "ur_msgs/ToolDataMsg\r\n",
      "uuid_msgs/UniqueID\r\n",
      "visualization_msgs/ImageMarker\r\n",
      "visualization_msgs/InteractiveMarker\r\n",
      "visualization_msgs/InteractiveMarkerControl\r\n",
      "visualization_msgs/InteractiveMarkerFeedback\r\n",
      "visualization_msgs/InteractiveMarkerInit\r\n",
      "visualization_msgs/InteractiveMarkerPose\r\n",
      "visualization_msgs/InteractiveMarkerUpdate\r\n",
      "visualization_msgs/Marker\r\n",
      "visualization_msgs/MarkerArray\r\n",
      "visualization_msgs/MenuEntry\r\n"
     ]
    }
   ],
   "source": [
    "!rosmsg list"
   ]
  },
  {
   "cell_type": "code",
   "execution_count": 12,
   "metadata": {},
   "outputs": [
    {
     "name": "stdout",
     "output_type": "stream",
     "text": [
      "float32 x\r\n",
      "float32 y\r\n",
      "float32 theta\r\n",
      "float32 linear_velocity\r\n",
      "float32 angular_velocity\r\n",
      "\r\n"
     ]
    }
   ],
   "source": [
    "!rosmsg info turtlesim/Pose"
   ]
  },
  {
   "cell_type": "markdown",
   "metadata": {},
   "source": [
    "### Schildkrötenbefehle\n",
    "\n",
    "Wir können jetzt einfach mal versuchen, der Schildkröte einen Befehl zu schicken.\n",
    "Das könne wir auf dem Kanal /turtle1/cmd_vel.\n",
    "Findet doch mal heraus, welcher Message-Typ hier genutzt wird und wie wir ihn importieren können - das geht genau so wie gerade eben!"
   ]
  },
  {
   "cell_type": "code",
   "execution_count": 13,
   "metadata": {},
   "outputs": [],
   "source": [
    "# implement here!"
   ]
  },
  {
   "cell_type": "code",
   "execution_count": 14,
   "metadata": {},
   "outputs": [],
   "source": [
    "# we import the definition of a Twist message\n",
    "from geometry_msgs.msg import Twist "
   ]
  },
  {
   "cell_type": "markdown",
   "metadata": {},
   "source": [
    "Wir erzeugen nun erst einmal einen *Publisher*, der uns ein einfaches und persistentes Interface bietet, um *Messages* zu publizieren. Wir nutzen dazu die Publisher Klasse und übergeben noch die Information zu Kanalnamen und dem zugehörigem Messageformat:"
   ]
  },
  {
   "cell_type": "code",
   "execution_count": 15,
   "metadata": {},
   "outputs": [],
   "source": [
    "# we create a publisher for a \"/turtle1/cmd_vel\" topic\n",
    "twist_publisher = rospy.Publisher(\"/turtle1/cmd_vel\",Twist, queue_size=10) "
   ]
  },
  {
   "cell_type": "markdown",
   "metadata": {},
   "source": [
    "Um jetzt eine Message zu schicken, holen wir uns das Format als Blaupause und schauen uns mal an, welche Information dabei geschickt wird:"
   ]
  },
  {
   "cell_type": "code",
   "execution_count": 16,
   "metadata": {},
   "outputs": [],
   "source": [
    "message = Twist()"
   ]
  },
  {
   "cell_type": "code",
   "execution_count": 17,
   "metadata": {},
   "outputs": [
    {
     "data": {
      "text/plain": [
       "linear: \n",
       "  x: 0.0\n",
       "  y: 0.0\n",
       "  z: 0.0\n",
       "angular: \n",
       "  x: 0.0\n",
       "  y: 0.0\n",
       "  z: 0.0"
      ]
     },
     "execution_count": 17,
     "metadata": {},
     "output_type": "execute_result"
    }
   ],
   "source": [
    "message"
   ]
  },
  {
   "cell_type": "markdown",
   "metadata": {},
   "source": [
    "Ändern wir also die Sollgeschwindigkeit einmal für die Drehung um die Z-Achse und senden diese mit dem *publish* Befehl zu unserer Schildkröte"
   ]
  },
  {
   "cell_type": "code",
   "execution_count": 18,
   "metadata": {},
   "outputs": [],
   "source": [
    "message.angular.z = 1"
   ]
  },
  {
   "cell_type": "code",
   "execution_count": 19,
   "metadata": {},
   "outputs": [
    {
     "data": {
      "text/plain": [
       "linear: \n",
       "  x: 0.0\n",
       "  y: 0.0\n",
       "  z: 0.0\n",
       "angular: \n",
       "  x: 0.0\n",
       "  y: 0.0\n",
       "  z: 1"
      ]
     },
     "execution_count": 19,
     "metadata": {},
     "output_type": "execute_result"
    }
   ],
   "source": [
    "message"
   ]
  },
  {
   "cell_type": "code",
   "execution_count": 20,
   "metadata": {},
   "outputs": [],
   "source": [
    "twist_publisher.publish(message)"
   ]
  },
  {
   "cell_type": "markdown",
   "metadata": {},
   "source": [
    "Wie wir sehen, führt die Schildkröte den Befehl nur für eine gewisse Zeit aus und resettet den Befehl danach wieder. Wir müssen also dauerhaft einen Befehl senden, wenn wir wollen, dass die Schildkröte ihn länger ausführt.\n",
    "\n",
    "Um uns das Leben einfacher zu machen, definieren wir eine Funktion, die uns die repetetive Ausführung übernimmt:"
   ]
  },
  {
   "cell_type": "code",
   "execution_count": 20,
   "metadata": {},
   "outputs": [],
   "source": [
    "def move_turtle(forward_vel=0):\n",
    "    '''A function to move turtle from turtlesim simulation\n",
    "    \n",
    "    Args:\n",
    "        forward_vel (float): Linear velocity\n",
    "        rotation_vel (float): Angular velocity'''\n",
    "    message=Twist()\n",
    "    \n",
    "    message.linear.x=forward_vel\n",
    "    \n",
    "    twist_publisher.publish(message)\n",
    "    "
   ]
  },
  {
   "cell_type": "code",
   "execution_count": 22,
   "metadata": {},
   "outputs": [],
   "source": [
    "move_turtle(1)"
   ]
  },
  {
   "cell_type": "markdown",
   "metadata": {},
   "source": [
    "Leider funkioniert das Drehen um die Z Achse noch nicht. Fügt doch das bitte zur Funktion hinzu!"
   ]
  },
  {
   "cell_type": "code",
   "execution_count": 21,
   "metadata": {},
   "outputs": [],
   "source": [
    "def move_turtle(forward_vel=0,rotation_vel=0):\n",
    "    '''A function to move turtle from turtlesim simulation\n",
    "    \n",
    "    Args:\n",
    "        forward_vel (float): Linear velocity\n",
    "        rotation_vel (float): Angular velocity'''\n",
    "    message=Twist()\n",
    "    \n",
    "    message.linear.x=forward_vel\n",
    "    \n",
    "    twist_publisher.publish(message)"
   ]
  },
  {
   "cell_type": "markdown",
   "metadata": {},
   "source": [
    "Das ganze lässt sich jetzt noch in einen schönen Slider verpacken, der automatisch bei Änderungen den Befehl publiziert und man kann ein bisschen damit Herumspielen:"
   ]
  },
  {
   "cell_type": "code",
   "execution_count": 22,
   "metadata": {},
   "outputs": [
    {
     "data": {
      "application/vnd.jupyter.widget-view+json": {
       "model_id": "90239b982e37421bb29d57dd684838c7",
       "version_major": 2,
       "version_minor": 0
      },
      "text/plain": [
       "aW50ZXJhY3RpdmUoY2hpbGRyZW49KEZsb2F0U2xpZGVyKHZhbHVlPTAuMCwgZGVzY3JpcHRpb249dSdmb3J3YXJkX3ZlbCcsIG1heD0xMC4wLCBtaW49LTEwLjAsIHN0ZXA9Mi4wKSwgRmxvYXTigKY=\n"
      ]
     },
     "metadata": {},
     "output_type": "display_data"
    },
    {
     "name": "stdout",
     "output_type": "stream",
     "text": [
      "linear: \n",
      "  x: 0.0\n",
      "  y: 0.0\n",
      "  z: 0.0\n",
      "angular: \n",
      "  x: 0.0\n",
      "  y: 0.0\n",
      "  z: 0.0\n",
      "linear: \n",
      "  x: 4.0\n",
      "  y: 0.0\n",
      "  z: 0.0\n",
      "angular: \n",
      "  x: 0.0\n",
      "  y: 0.0\n",
      "  z: 0.0\n",
      "linear: \n",
      "  x: 6.0\n",
      "  y: 0.0\n",
      "  z: 0.0\n",
      "angular: \n",
      "  x: 0.0\n",
      "  y: 0.0\n",
      "  z: 0.0\n",
      "linear: \n",
      "  x: 2.0\n",
      "  y: 0.0\n",
      "  z: 0.0\n",
      "angular: \n",
      "  x: 0.0\n",
      "  y: 0.0\n",
      "  z: 0.0\n",
      "linear: \n",
      "  x: 0.0\n",
      "  y: 0.0\n",
      "  z: 0.0\n",
      "angular: \n",
      "  x: 0.0\n",
      "  y: 0.0\n",
      "  z: 0.0\n",
      "linear: \n",
      "  x: -2.0\n",
      "  y: 0.0\n",
      "  z: 0.0\n",
      "angular: \n",
      "  x: 0.0\n",
      "  y: 0.0\n",
      "  z: 0.0\n",
      "linear: \n",
      "  x: -4.0\n",
      "  y: 0.0\n",
      "  z: 0.0\n",
      "angular: \n",
      "  x: 0.0\n",
      "  y: 0.0\n",
      "  z: 0.0\n",
      "linear: \n",
      "  x: -6.0\n",
      "  y: 0.0\n",
      "  z: 0.0\n",
      "angular: \n",
      "  x: 0.0\n",
      "  y: 0.0\n",
      "  z: 0.0\n",
      "linear: \n",
      "  x: -4.0\n",
      "  y: 0.0\n",
      "  z: 0.0\n",
      "angular: \n",
      "  x: 0.0\n",
      "  y: 0.0\n",
      "  z: 0.0\n",
      "linear: \n",
      "  x: 0.0\n",
      "  y: 0.0\n",
      "  z: 0.0\n",
      "angular: \n",
      "  x: 0.0\n",
      "  y: 0.0\n",
      "  z: 0.0\n",
      "linear: \n",
      "  x: -2.0\n",
      "  y: 0.0\n",
      "  z: 0.0\n",
      "angular: \n",
      "  x: 0.0\n",
      "  y: 0.0\n",
      "  z: 0.0\n",
      "linear: \n",
      "  x: -4.0\n",
      "  y: 0.0\n",
      "  z: 0.0\n",
      "angular: \n",
      "  x: 0.0\n",
      "  y: 0.0\n",
      "  z: 0.0\n",
      "linear: \n",
      "  x: -2.0\n",
      "  y: 0.0\n",
      "  z: 0.0\n",
      "angular: \n",
      "  x: 0.0\n",
      "  y: 0.0\n",
      "  z: 0.0\n",
      "linear: \n",
      "  x: 0.0\n",
      "  y: 0.0\n",
      "  z: 0.0\n",
      "angular: \n",
      "  x: 0.0\n",
      "  y: 0.0\n",
      "  z: 0.0\n",
      "linear: \n",
      "  x: -2.0\n",
      "  y: 0.0\n",
      "  z: 0.0\n",
      "angular: \n",
      "  x: 0.0\n",
      "  y: 0.0\n",
      "  z: 0.0\n",
      "linear: \n",
      "  x: 0.0\n",
      "  y: 0.0\n",
      "  z: 0.0\n",
      "angular: \n",
      "  x: 0.0\n",
      "  y: 0.0\n",
      "  z: 0.0\n",
      "linear: \n",
      "  x: 2.0\n",
      "  y: 0.0\n",
      "  z: 0.0\n",
      "angular: \n",
      "  x: 0.0\n",
      "  y: 0.0\n",
      "  z: 0.0\n"
     ]
    }
   ],
   "source": [
    "import ipywidgets\n",
    "ipywidgets.interact(move_turtle,\n",
    "                    forward_vel=ipywidgets.FloatSlider(min=-10,max=10,step=2,value=0),\n",
    "                   rotation_vel= ipywidgets.FloatSlider(min=-3,max=3,value=0));"
   ]
  },
  {
   "cell_type": "markdown",
   "metadata": {},
   "source": [
    "### Unsere erste Subscription!\n",
    "\n",
    "Ein **Subscriber** verarbeitet Messages, die auf einem bestimmten **Topic** publiziert werden. Es übergibt diese an eine Funktion, die die Message verarbeitet.\n",
    "\n",
    "Das einfachste ist erst einmal, die Message einfach auszugeben.\n",
    "Nachfolgend ist bereits der ein Subscriber definiert, es fehlen nur noch die Informationen zum Topic Kanal und zur Messageformat, die ihr noch hinzufügen müsst.\n",
    "\n",
    "Subscribed einfach mal auf dem Kanal, auf dem die Sollgeschwindigkeit publiziert wird!"
   ]
  },
  {
   "cell_type": "code",
   "execution_count": 18,
   "metadata": {},
   "outputs": [],
   "source": [
    "topic_name = \"/turtle1/cmd_vel\"\n",
    "msg_type = Twist\n",
    "\n",
    "def write_reversed(message):\n",
    "    print(message)\n",
    "    \n",
    "# now we create a new subscriber\n",
    "new_subscriber = rospy.Subscriber(topic_name,msg_type,write_reversed)"
   ]
  },
  {
   "cell_type": "markdown",
   "metadata": {},
   "source": [
    "Jetzt können wir uns auch noch anschauen, was passiert, wenn wir eine neue Message publizeren:"
   ]
  },
  {
   "cell_type": "code",
   "execution_count": 31,
   "metadata": {},
   "outputs": [
    {
     "name": "stdout",
     "output_type": "stream",
     "text": [
      "linear: \n",
      "  x: 1.0\n",
      "  y: 0.0\n",
      "  z: 0.0\n",
      "angular: \n",
      "  x: 0.0\n",
      "  y: 0.0\n",
      "  z: 0.0\n",
      "linear: \n",
      "  x: 1.0\n",
      "  y: 0.0\n",
      "  z: 0.0\n",
      "angular: \n",
      "  x: 0.0\n",
      "  y: 0.0\n",
      "  z: 0.0\n",
      "linear: \n",
      "  x: 1.0\n",
      "  y: 0.0\n",
      "  z: 0.0\n",
      "angular: \n",
      "  x: 0.0\n",
      "  y: 0.0\n",
      "  z: 0.0\n"
     ]
    }
   ],
   "source": [
    "move_turtle(1,1)"
   ]
  },
  {
   "cell_type": "markdown",
   "metadata": {},
   "source": [
    "Das wird aber auch schnell unübersichtlich: Wenn man zum Beispiel viele Messages publiziert, wie z.B. mit dem Slider. Ihr könnt das ja mal ausprobieren. Um die Verarbeitung der Messages wieder aufzuheben kann man auch die Weiterleitung einfach aufheben mittels der *unregister* Funktion:"
   ]
  },
  {
   "cell_type": "code",
   "execution_count": 19,
   "metadata": {
    "scrolled": true
   },
   "outputs": [
    {
     "ename": "NameError",
     "evalue": "name 'move_turtle' is not defined",
     "output_type": "error",
     "traceback": [
      "\u001b[0;31m-----------------------------\u001b[0m",
      "\u001b[0;31mNameError\u001b[0mTraceback (most recent call last)",
      "\u001b[0;32m<ipython-input-19-a70aeb5d098e>\u001b[0m in \u001b[0;36m<module>\u001b[0;34m()\u001b[0m\n\u001b[1;32m      1\u001b[0m \u001b[0;32mimport\u001b[0m \u001b[0mipywidgets\u001b[0m\u001b[0;34m\u001b[0m\u001b[0m\n\u001b[0;32m----> 2\u001b[0;31m ipywidgets.interact(move_turtle,\n\u001b[0m\u001b[1;32m      3\u001b[0m                     \u001b[0mforward_vel\u001b[0m\u001b[0;34m=\u001b[0m\u001b[0mipywidgets\u001b[0m\u001b[0;34m.\u001b[0m\u001b[0mFloatSlider\u001b[0m\u001b[0;34m(\u001b[0m\u001b[0mmin\u001b[0m\u001b[0;34m=\u001b[0m\u001b[0;34m-\u001b[0m\u001b[0;36m10\u001b[0m\u001b[0;34m,\u001b[0m\u001b[0mmax\u001b[0m\u001b[0;34m=\u001b[0m\u001b[0;36m10\u001b[0m\u001b[0;34m,\u001b[0m\u001b[0mstep\u001b[0m\u001b[0;34m=\u001b[0m\u001b[0;36m2\u001b[0m\u001b[0;34m,\u001b[0m\u001b[0mvalue\u001b[0m\u001b[0;34m=\u001b[0m\u001b[0;36m0\u001b[0m\u001b[0;34m)\u001b[0m\u001b[0;34m,\u001b[0m\u001b[0;34m\u001b[0m\u001b[0m\n\u001b[1;32m      4\u001b[0m                    rotation_vel= ipywidgets.FloatSlider(min=-3,max=3,value=0));\n",
      "\u001b[0;31mNameError\u001b[0m: name 'move_turtle' is not defined"
     ]
    }
   ],
   "source": [
    "import ipywidgets\n",
    "ipywidgets.interact(move_turtle,\n",
    "                    forward_vel=ipywidgets.FloatSlider(min=-10,max=10,step=2,value=0),\n",
    "                   rotation_vel= ipywidgets.FloatSlider(min=-3,max=3,value=0));"
   ]
  },
  {
   "cell_type": "code",
   "execution_count": 127,
   "metadata": {},
   "outputs": [],
   "source": [
    "new_subscriber.unregister()"
   ]
  },
  {
   "cell_type": "markdown",
   "metadata": {},
   "source": [
    "### ROS  Service\n",
    " \n",
    "\n",
    "Ein **Service** ist eine Funktion, die von einer Node angeboten wird. Sie besteht immer aus Argumenten, die der Node übergeben werden und Resultaten, die das Ergebnis sind. \n",
    "Andere Nodes können über diese Services unregelmäßige Ereignisse hervorrufen oder Berechnungen ausführen  lassen.\n",
    "\n",
    "So kann man sich Services anzeigen lassen"
   ]
  },
  {
   "cell_type": "code",
   "execution_count": 139,
   "metadata": {},
   "outputs": [
    {
     "name": "stdout",
     "output_type": "stream",
     "text": [
      "/Meine_Lieblingsnode_20021_1548403545760/get_loggers\r\n",
      "/Meine_Lieblingsnode_20021_1548403545760/set_logger_level\r\n",
      "/clear\r\n",
      "/kill\r\n",
      "/reset\r\n",
      "/rosout/get_loggers\r\n",
      "/rosout/set_logger_level\r\n",
      "/spawn\r\n",
      "/turtle1/set_pen\r\n",
      "/turtle1/teleport_absolute\r\n",
      "/turtle1/teleport_relative\r\n",
      "/turtlesim_node/get_loggers\r\n",
      "/turtlesim_node/set_logger_level\r\n"
     ]
    }
   ],
   "source": [
    "!rosservice list"
   ]
  },
  {
   "cell_type": "markdown",
   "metadata": {},
   "source": [
    "Wichtige Infos bekommt man über so. Es gibt hier auch ein Format (Type) und Argumente (Args)"
   ]
  },
  {
   "cell_type": "code",
   "execution_count": 140,
   "metadata": {},
   "outputs": [
    {
     "name": "stdout",
     "output_type": "stream",
     "text": [
      "Node: /turtlesim_node\r\n",
      "URI: rosrpc://AURORA-ML:51863\r\n",
      "Type: turtlesim/Spawn\r\n",
      "Args: x y theta name\r\n"
     ]
    }
   ],
   "source": [
    "!rosservice info /spawn"
   ]
  },
  {
   "cell_type": "code",
   "execution_count": 143,
   "metadata": {},
   "outputs": [
    {
     "name": "stdout",
     "output_type": "stream",
     "text": [
      "Node: /turtlesim_node\r\n",
      "URI: rosrpc://AURORA-ML:51863\r\n",
      "Type: std_srvs/Empty\r\n",
      "Args: \r\n"
     ]
    }
   ],
   "source": [
    "!rosservice info /reset"
   ]
  },
  {
   "cell_type": "markdown",
   "metadata": {},
   "source": [
    "Argumente und Rückgabewerte der Services kann man sich so anzeigen lassen:"
   ]
  },
  {
   "cell_type": "code",
   "execution_count": 144,
   "metadata": {},
   "outputs": [
    {
     "name": "stdout",
     "output_type": "stream",
     "text": [
      "float32 x\r\n",
      "float32 y\r\n",
      "float32 theta\r\n",
      "string name\r\n",
      "---\r\n",
      "string name\r\n",
      "\r\n"
     ]
    }
   ],
   "source": [
    "!rossrv show turtlesim/Spawn"
   ]
  },
  {
   "cell_type": "code",
   "execution_count": 146,
   "metadata": {},
   "outputs": [
    {
     "name": "stdout",
     "output_type": "stream",
     "text": [
      "string name\r\n",
      "---\r\n",
      "\r\n"
     ]
    }
   ],
   "source": [
    "!rossrv show turtlesim/Kill"
   ]
  },
  {
   "cell_type": "code",
   "execution_count": 129,
   "metadata": {},
   "outputs": [
    {
     "name": "stdout",
     "output_type": "stream",
     "text": [
      "float32 x\r\n",
      "float32 y\r\n",
      "float32 theta\r\n",
      "---\r\n",
      "\r\n"
     ]
    }
   ],
   "source": [
    "!rossrv show turtlesim/TeleportAbsolute"
   ]
  },
  {
   "cell_type": "markdown",
   "metadata": {},
   "source": [
    "Services haben Rückmeldungen: mit ServiceProxy kann man ähnlich wie ein Subscriber eine Möglichkeit erzeugen, direkt Services anzusprechen und wie eine normale Funktion zu nutzen.\n",
    "\n",
    "Wir können einfach einmal eine neue Schildkröte erzeugen. Dabei müssen wir Lage, Orientierung und Name der neuen Kröte angeben:"
   ]
  },
  {
   "cell_type": "code",
   "execution_count": 19,
   "metadata": {},
   "outputs": [
    {
     "name": "stdout",
     "output_type": "stream",
     "text": [
      "Neuer Name ist NeuerTurtleName\n"
     ]
    }
   ],
   "source": [
    "from turtlesim.srv import Spawn, Kill\n",
    "from math import pi\n",
    "\n",
    "\n",
    "## here create a service proxy function for /turtle1/teleport_absolute of TeleportAbsolute type\n",
    "srv_spawn = rospy.ServiceProxy(\"/spawn\",Spawn)\n",
    "\n",
    "\n",
    "Return_value = srv_spawn(10,10,0,\"NeuerTurtleName\")\n",
    "print(\"Neuer Name ist \" + Return_value.name)\n"
   ]
  },
  {
   "cell_type": "markdown",
   "metadata": {},
   "source": [
    "Unsere Schildkröten sind eher Einzelgänger, deswegen sollten wir den neuen Eindringling am besten gleich entfernen ;). Nutze dazu den Service */kill*. Das geht ganz analog zu Spawn!"
   ]
  },
  {
   "cell_type": "code",
   "execution_count": 20,
   "metadata": {},
   "outputs": [
    {
     "data": {
      "text/plain": []
     },
     "execution_count": 20,
     "metadata": {},
     "output_type": "execute_result"
    }
   ],
   "source": [
    "#implement here!"
   ]
  },
  {
   "cell_type": "markdown",
   "metadata": {},
   "source": [
    "Man kann seine Kröten auch herumteleportieren!\n",
    "Dazu kann man den Service */turtle1/teleport_absolute*, analog zu den vorherigen Übungen und teleportiere die Schildkröte mal irgendwo hin ;-)"
   ]
  },
  {
   "cell_type": "code",
   "execution_count": 169,
   "metadata": {},
   "outputs": [],
   "source": [
    "#implement here!"
   ]
  },
  {
   "cell_type": "markdown",
   "metadata": {},
   "source": [
    "Jetzt noch schnell das Fenster schließen und den *roscore* beenden!"
   ]
  },
  {
   "cell_type": "code",
   "execution_count": 170,
   "metadata": {},
   "outputs": [],
   "source": [
    "roscore_process.kill()"
   ]
  },
  {
   "cell_type": "markdown",
   "metadata": {},
   "source": [
    "## Jetzt können wir das ganze in einem komplexeren Beispiel ausprobieren! \n",
    "## [Übung 2](UR5_Sim.ipynb)"
   ]
  }
 ],
 "metadata": {
  "kernelspec": {
   "display_name": "Python 2",
   "language": "python",
   "name": "python2"
  },
  "language_info": {
   "codemirror_mode": {
    "name": "ipython",
    "version": 2
   },
   "file_extension": ".py",
   "mimetype": "text/x-python",
   "name": "python",
   "nbconvert_exporter": "python",
   "pygments_lexer": "ipython2",
   "version": "2.7.12"
  }
 },
 "nbformat": 4,
 "nbformat_minor": 2
}
