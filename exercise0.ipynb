{
 "cells": [
  {
   "cell_type": "markdown",
   "metadata": {},
   "source": [
    "## Die erste eigene ROS Node\n",
    "\n",
    "In dieser Übung erzeugen wir eine erste [**ROS Node**](http://wiki.ros.org/Nodes) und verbinden sie mit dem ROS Netzwerk.\n",
    "Dazu müssen wir eine Node erzeugen und sie beim Verteiler, dem [**roscore**](http://wiki.ros.org/roscore), registrieren.\n",
    "Prinzipiell können wir jede beliebige IP Adresse angeben, unter dem der roscore erreichbar ist. Hier benutzen wir den lokalen roscore Server, sodass wir die Standardeinstellungen nutzen können.\n"
   ]
  },
  {
   "cell_type": "markdown",
   "metadata": {},
   "source": [
    "Wir werden den Großteil des Codes in [Python 2.7](https://docs.python.org/2.7/) nutzen und dabei auf die [Python Bibliotheken von ROS](http://wiki.ros.org/rospy) zurückgreifen.\n",
    "\n",
    "Mit Python zu Programmieren ist relativ einfach und erfordert keinen großen Prozess um den Code ausführbar zu machen, was uns entgegen kommt\n",
    "\n",
    "Zunächst importieren wir einige wichtige Bilbiotheken die wir im Verlauf benötigen werden.\n",
    "Eine Zelle (Markiert durch ein **In[ ]** davor) kann mit der Tastenkombination Shift + Enter ausgeführt, wenn ihr sie markiert habt. Wenn sie erfolgreich ausgeführt wurde, erscheint eine Zahl in den Klammern, die eine fortlaufende Nummer in der Ausführung darstellt.\n",
    "\n",
    "Nachdem ihr die Zelle ausgeführt habt, sollte davor ein **In [1]** erscheinen"
   ]
  },
  {
   "cell_type": "code",
   "execution_count": 2,
   "metadata": {},
   "outputs": [],
   "source": [
    "import rospy\n",
    "import roslaunch\n",
    "import rosnode\n",
    "import os\n",
    "import subprocess"
   ]
  },
  {
   "cell_type": "markdown",
   "metadata": {},
   "source": [
    "Wir starten nun den Verteiler für die Kommunikation, den **roscore**"
   ]
  },
  {
   "cell_type": "code",
   "execution_count": 3,
   "metadata": {},
   "outputs": [],
   "source": [
    "roscore_process=subprocess.Popen([\"roscore\"])"
   ]
  },
  {
   "cell_type": "markdown",
   "metadata": {},
   "source": [
    "Wir können nun die bereits existierenden **Nodes** anzeigen lassen. Mit dem Befehl *\"get_node_names()\"* können wir alle Nodes auflisten:"
   ]
  },
  {
   "cell_type": "code",
   "execution_count": 4,
   "metadata": {},
   "outputs": [
    {
     "data": {
      "text/plain": [
       "['/rosout']"
      ]
     },
     "execution_count": 4,
     "metadata": {},
     "output_type": "execute_result"
    }
   ],
   "source": [
    "rosnode.get_node_names()"
   ]
  },
  {
   "cell_type": "markdown",
   "metadata": {},
   "source": [
    "Neue Nodes lassen sich durch den Befehl *.init_node(name)* erzeugen. Gebt euren eigenen Node Namen an!"
   ]
  },
  {
   "cell_type": "code",
   "execution_count": 5,
   "metadata": {},
   "outputs": [],
   "source": [
    "node_name = \"Meine_Lieblingsnode\";\n",
    "rospy.init_node(node_name, anonymous=True)"
   ]
  },
  {
   "cell_type": "markdown",
   "metadata": {},
   "source": [
    "Wir können jetzt sehen, dass die neue Node erzeugt wurde. Lasst euch nochmal die Namen aller Nodes anzeigen! "
   ]
  },
  {
   "cell_type": "code",
   "execution_count": 6,
   "metadata": {},
   "outputs": [
    {
     "data": {
      "text/plain": [
       "['/rosout', '/Meine_Lieblingsnode_5719_1548412462341']"
      ]
     },
     "execution_count": 6,
     "metadata": {},
     "output_type": "execute_result"
    }
   ],
   "source": [
    "# Hier den code einfügen, um die Namen aller Nodes Anzeigen zu lassen!"
   ]
  },
  {
   "cell_type": "markdown",
   "metadata": {},
   "source": [
    "## Kommunizieren in ROS: Topics, Services, Parameter\n",
    "\n",
    "Für die Kommunikation der verschiedenen ROS Nodes untereinander stellt das ROS Framework für verschiedene Zwecke entsprechende Möglichkeiten zur Verfügung.\n",
    "\n",
    "Kurz zusammengefasst:\n",
    "**Topics** sind einfache Kommunikationskanäle, in die jede Node schreiben kann, solange das *Format* korrekt ist. Jede Node kann auch ohne Verzögerung daraus lesen.\n",
    "\n",
    "Ein typisches **Topic** wäre zum Beispiel die Information über die Temperatur. Der Temperatursensor publiziert hierbei als *Publisher* die aktuelle Temperatur in regelmäßigen Abständen. Es ist hier für den Temperatursensor unwichtig, Rückmeldung zu bekommen, was mit den Daten geschieht oder was daraus berechnet wird. Verschiedene andere Nodes, die z.B. den Temperaturverlauf visualisieren oder eine Glatteiswarnung herausgeben, lesen die Information, die auf dem Topic veröffentlich wird. Man nennt sie *Subscriber*\n",
    "\n",
    "**Services** sind hingegen bilaterale Kommunikationskanäle, d.h. eine Node stellt eine Anfrage und wartet auf eine Antwort von einer anderen Node. \n",
    "\n",
    "Ein typischer **Service** wird zum Beispiel von einer Bildverarbeitungsnode bereitgestellt. Soll auf einem Bild bespielsweise ein Objekt detektiert werden, so wird der Bildverarbeitungsnode ein Bild per *service call* zur verfügung gestellt. Diese führt nun den Detektionsalgorithmus aus und liefert in der Antwort die Position des Objektes zurück.\n",
    "\n",
    "**Parameter** sind dagegen eine gemeinsame Datenbank von Werten, die von vielen *Nodes* benötigt werden. Üblicherweise werden hier nicht- bzw. nur spordische veränderliche Werte bereitgestellt, die nur selten verarbeitet werden, wie z.B. die Hardwarekonfiguration der Roboter."
   ]
  },
  {
   "cell_type": "markdown",
   "metadata": {},
   "source": [
    "## Der erste Roboter: *TurtleBot*\n",
    "\n",
    "Beginnen wir mit dem ersten Roboter, den man über Simulation (*TurtleSim*), aber auch potenziell als reale Hardware über ROS steuern kann - dem *TurtleBot*\n",
    "\n",
    "![](img/TurtleBot2.jpg)\n"
   ]
  },
  {
   "cell_type": "code",
   "execution_count": 7,
   "metadata": {},
   "outputs": [
    {
     "name": "stdout",
     "output_type": "stream",
     "text": [
      "\u001b[1mstarted roslaunch server http://AURORA-ML:36159/\u001b[0m\n",
      "\n",
      "SUMMARY\n",
      "========\n",
      "\n",
      "PARAMETERS\n",
      " * /rosdistro: kinetic\n",
      " * /rosversion: 1.12.14\n",
      "\n",
      "NODES\n",
      "\n",
      "\u001b[1mROS_MASTER_URI=http://localhost:11311\u001b[0m\n",
      "\u001b[1mprocess[turtlesim_node-1]: started with pid [18092]\u001b[0m\n"
     ]
    },
    {
     "data": {
      "text/plain": [
       "<roslaunch.nodeprocess.LocalProcess at 0x7f3338727e90>"
      ]
     },
     "execution_count": 7,
     "metadata": {},
     "output_type": "execute_result"
    }
   ],
   "source": [
    "# Einfach diese Zelle ausführen um die TurtleSim Simulation zu starten!\n",
    "\n",
    "launch = roslaunch.scriptapi.ROSLaunch()\n",
    "launch.start()\n",
    "node1=roslaunch.core.Node(\"turtlesim\", \"turtlesim_node\",name=\"turtlesim_node\")\n",
    "launch.launch(node1)"
   ]
  },
  {
   "cell_type": "markdown",
   "metadata": {},
   "source": [
    "Cool! Ihr solltet jetzt einen kleinen Schildkrötenroboter in einem seperaten Fenster sehen!\n",
    "\n",
    "Die Simulation hat bereits ein Inferface zu ROS, es ist also leicht möglich, den Roboter Befehle über die ROS Kommunikationskanäle zu geben.\n",
    "\n",
    "Lasst uns mal schauen, wie wir mit dem Roboter kommunizieren können!"
   ]
  },
  {
   "cell_type": "markdown",
   "metadata": {},
   "source": [
    "### ROS Topic\n",
    "\n",
    "Fangen wir mal mit einem **Topic** an. Mit **!rostopic** lassen sich alle Kommunikationskanäle anzeigen, die registriert sind.\n"
   ]
  },
  {
   "cell_type": "markdown",
   "metadata": {},
   "source": [
    "Lasst uns zunächst einmal sehen, welche Topics überhaupt von TurtleSim zur Verfügung gestellt werden"
   ]
  },
  {
   "cell_type": "code",
   "execution_count": 10,
   "metadata": {},
   "outputs": [
    {
     "name": "stdout",
     "output_type": "stream",
     "text": [
      "/rosout\r\n",
      "/rosout_agg\r\n",
      "/turtle1/cmd_vel\r\n",
      "/turtle1/color_sensor\r\n",
      "/turtle1/pose\r\n"
     ]
    }
   ],
   "source": [
    "!rostopic list"
   ]
  },
  {
   "cell_type": "markdown",
   "metadata": {},
   "source": [
    "Aha! Die Node \"turtle1\" stellt 3 Kanäle zur Verfügung\n",
    "* color_sensor - was irrelevant ist für uns zunächst\n",
    "* pose - bei dem die aktuelle Position publiziert wird\n",
    "* cmd_vel - bei der man die Geschwindigkeit senden kann\n",
    "\n",
    "Jedes Topic hat dabei ein bestimmtes Format - dieses kann man mit\n",
    "\n",
    "*!rostopic info topic_name* \n",
    "\n",
    "anzeigen lassen:"
   ]
  },
  {
   "cell_type": "code",
   "execution_count": 36,
   "metadata": {},
   "outputs": [
    {
     "name": "stdout",
     "output_type": "stream",
     "text": [
      "Type: turtlesim/Pose\r\n",
      "\r\n",
      "Publishers: \r\n",
      " * /turtlesim_node (http://AURORA-ML:35015/)\r\n",
      "\r\n",
      "Subscribers: None\r\n",
      "\r\n",
      "\r\n"
     ]
    }
   ],
   "source": [
    "!rostopic info /turtle1/pose"
   ]
  },
  {
   "cell_type": "markdown",
   "metadata": {},
   "source": [
    "Hier sehen wir, dass \n",
    "* Das Topic vom Typ *turtlesim/Pose* ist\n",
    "* Dass eine Node in das Topic schreibt\n",
    "* Dass niemand auf dem Topic regelmäßig liest (*Subscribers*)\n",
    "\n",
    "Wir können jetzt einmal lesen, was für Informationen dort veröffentlicht werden.\n",
    "Dazu müssen wir die Formatdefinition (als ein *.msg* File bereits vordefiniert) angeben und das Topic.\n",
    "\n",
    "Dazu nutzen wir die Funktion *wait_for_message*"
   ]
  },
  {
   "cell_type": "code",
   "execution_count": 44,
   "metadata": {},
   "outputs": [
    {
     "data": {
      "text/plain": [
       "x: 5.544444561\n",
       "y: 5.544444561\n",
       "theta: 0.0\n",
       "linear_velocity: 0.0\n",
       "angular_velocity: 0.0"
      ]
     },
     "execution_count": 44,
     "metadata": {},
     "output_type": "execute_result"
    }
   ],
   "source": [
    "from turtlesim.msg import Pose\n",
    "\n",
    "rospy.wait_for_message(\"/turtle1/pose\", Pose, timeout=1) "
   ]
  },
  {
   "cell_type": "markdown",
   "metadata": {},
   "source": [
    "Um schnell nachzusehen, welche Informationen eine beliebige Funktion benötigt, kann man übrigens einfach ein ? davor oder dahinter stellen:"
   ]
  },
  {
   "cell_type": "code",
   "execution_count": 46,
   "metadata": {},
   "outputs": [],
   "source": [
    "rospy.wait_for_message?"
   ]
  },
  {
   "cell_type": "markdown",
   "metadata": {},
   "source": [
    "In ROS sind bereits verschiedene Formatdefinitionen (*messages*) vordefiniert. Man kann sie sich leicht auflisten lassen und genauere Informationen darüber abrufen:"
   ]
  },
  {
   "cell_type": "code",
   "execution_count": 47,
   "metadata": {},
   "outputs": [
    {
     "name": "stdout",
     "output_type": "stream",
     "text": [
      "actionlib/TestAction\r\n",
      "actionlib/TestActionFeedback\r\n",
      "actionlib/TestActionGoal\r\n",
      "actionlib/TestActionResult\r\n",
      "actionlib/TestFeedback\r\n",
      "actionlib/TestGoal\r\n",
      "actionlib/TestRequestAction\r\n",
      "actionlib/TestRequestActionFeedback\r\n",
      "actionlib/TestRequestActionGoal\r\n",
      "actionlib/TestRequestActionResult\r\n",
      "actionlib/TestRequestFeedback\r\n",
      "actionlib/TestRequestGoal\r\n",
      "actionlib/TestRequestResult\r\n",
      "actionlib/TestResult\r\n",
      "actionlib/TwoIntsAction\r\n",
      "actionlib/TwoIntsActionFeedback\r\n",
      "actionlib/TwoIntsActionGoal\r\n",
      "actionlib/TwoIntsActionResult\r\n",
      "actionlib/TwoIntsFeedback\r\n",
      "actionlib/TwoIntsGoal\r\n",
      "actionlib/TwoIntsResult\r\n",
      "actionlib_msgs/GoalID\r\n",
      "actionlib_msgs/GoalStatus\r\n",
      "actionlib_msgs/GoalStatusArray\r\n",
      "actionlib_tutorials/AveragingAction\r\n",
      "actionlib_tutorials/AveragingActionFeedback\r\n",
      "actionlib_tutorials/AveragingActionGoal\r\n",
      "actionlib_tutorials/AveragingActionResult\r\n",
      "actionlib_tutorials/AveragingFeedback\r\n",
      "actionlib_tutorials/AveragingGoal\r\n",
      "actionlib_tutorials/AveragingResult\r\n",
      "actionlib_tutorials/FibonacciAction\r\n",
      "actionlib_tutorials/FibonacciActionFeedback\r\n",
      "actionlib_tutorials/FibonacciActionGoal\r\n",
      "actionlib_tutorials/FibonacciActionResult\r\n",
      "actionlib_tutorials/FibonacciFeedback\r\n",
      "actionlib_tutorials/FibonacciGoal\r\n",
      "actionlib_tutorials/FibonacciResult\r\n",
      "bond/Constants\r\n",
      "bond/Status\r\n",
      "control_msgs/FollowJointTrajectoryAction\r\n",
      "control_msgs/FollowJointTrajectoryActionFeedback\r\n",
      "control_msgs/FollowJointTrajectoryActionGoal\r\n",
      "control_msgs/FollowJointTrajectoryActionResult\r\n",
      "control_msgs/FollowJointTrajectoryFeedback\r\n",
      "control_msgs/FollowJointTrajectoryGoal\r\n",
      "control_msgs/FollowJointTrajectoryResult\r\n",
      "control_msgs/GripperCommand\r\n",
      "control_msgs/GripperCommandAction\r\n",
      "control_msgs/GripperCommandActionFeedback\r\n",
      "control_msgs/GripperCommandActionGoal\r\n",
      "control_msgs/GripperCommandActionResult\r\n",
      "control_msgs/GripperCommandFeedback\r\n",
      "control_msgs/GripperCommandGoal\r\n",
      "control_msgs/GripperCommandResult\r\n",
      "control_msgs/JointControllerState\r\n",
      "control_msgs/JointTolerance\r\n",
      "control_msgs/JointTrajectoryAction\r\n",
      "control_msgs/JointTrajectoryActionFeedback\r\n",
      "control_msgs/JointTrajectoryActionGoal\r\n",
      "control_msgs/JointTrajectoryActionResult\r\n",
      "control_msgs/JointTrajectoryControllerState\r\n",
      "control_msgs/JointTrajectoryFeedback\r\n",
      "control_msgs/JointTrajectoryGoal\r\n",
      "control_msgs/JointTrajectoryResult\r\n",
      "control_msgs/PidState\r\n",
      "control_msgs/PointHeadAction\r\n",
      "control_msgs/PointHeadActionFeedback\r\n",
      "control_msgs/PointHeadActionGoal\r\n",
      "control_msgs/PointHeadActionResult\r\n",
      "control_msgs/PointHeadFeedback\r\n",
      "control_msgs/PointHeadGoal\r\n",
      "control_msgs/PointHeadResult\r\n",
      "control_msgs/SingleJointPositionAction\r\n",
      "control_msgs/SingleJointPositionActionFeedback\r\n",
      "control_msgs/SingleJointPositionActionGoal\r\n",
      "control_msgs/SingleJointPositionActionResult\r\n",
      "control_msgs/SingleJointPositionFeedback\r\n",
      "control_msgs/SingleJointPositionGoal\r\n",
      "control_msgs/SingleJointPositionResult\r\n",
      "controller_manager_msgs/ControllerState\r\n",
      "controller_manager_msgs/ControllerStatistics\r\n",
      "controller_manager_msgs/ControllersStatistics\r\n",
      "controller_manager_msgs/HardwareInterfaceResources\r\n",
      "diagnostic_msgs/DiagnosticArray\r\n",
      "diagnostic_msgs/DiagnosticStatus\r\n",
      "diagnostic_msgs/KeyValue\r\n",
      "dynamic_reconfigure/BoolParameter\r\n",
      "dynamic_reconfigure/Config\r\n",
      "dynamic_reconfigure/ConfigDescription\r\n",
      "dynamic_reconfigure/DoubleParameter\r\n",
      "dynamic_reconfigure/Group\r\n",
      "dynamic_reconfigure/GroupState\r\n",
      "dynamic_reconfigure/IntParameter\r\n",
      "dynamic_reconfigure/ParamDescription\r\n",
      "dynamic_reconfigure/SensorLevels\r\n",
      "dynamic_reconfigure/StrParameter\r\n",
      "gazebo_msgs/ContactState\r\n",
      "gazebo_msgs/ContactsState\r\n",
      "gazebo_msgs/LinkState\r\n",
      "gazebo_msgs/LinkStates\r\n",
      "gazebo_msgs/ModelState\r\n",
      "gazebo_msgs/ModelStates\r\n",
      "gazebo_msgs/ODEJointProperties\r\n",
      "gazebo_msgs/ODEPhysics\r\n",
      "gazebo_msgs/WorldState\r\n",
      "geometry_msgs/Accel\r\n",
      "geometry_msgs/AccelStamped\r\n",
      "geometry_msgs/AccelWithCovariance\r\n",
      "geometry_msgs/AccelWithCovarianceStamped\r\n",
      "geometry_msgs/Inertia\r\n",
      "geometry_msgs/InertiaStamped\r\n",
      "geometry_msgs/Point\r\n",
      "geometry_msgs/Point32\r\n",
      "geometry_msgs/PointStamped\r\n",
      "geometry_msgs/Polygon\r\n",
      "geometry_msgs/PolygonStamped\r\n",
      "geometry_msgs/Pose\r\n",
      "geometry_msgs/Pose2D\r\n",
      "geometry_msgs/PoseArray\r\n",
      "geometry_msgs/PoseStamped\r\n",
      "geometry_msgs/PoseWithCovariance\r\n",
      "geometry_msgs/PoseWithCovarianceStamped\r\n",
      "geometry_msgs/Quaternion\r\n",
      "geometry_msgs/QuaternionStamped\r\n",
      "geometry_msgs/Transform\r\n",
      "geometry_msgs/TransformStamped\r\n",
      "geometry_msgs/Twist\r\n",
      "geometry_msgs/TwistStamped\r\n",
      "geometry_msgs/TwistWithCovariance\r\n",
      "geometry_msgs/TwistWithCovarianceStamped\r\n",
      "geometry_msgs/Vector3\r\n",
      "geometry_msgs/Vector3Stamped\r\n",
      "geometry_msgs/Wrench\r\n",
      "geometry_msgs/WrenchStamped\r\n",
      "map_msgs/OccupancyGridUpdate\r\n",
      "map_msgs/PointCloud2Update\r\n",
      "map_msgs/ProjectedMap\r\n",
      "map_msgs/ProjectedMapInfo\r\n",
      "moveit_msgs/AllowedCollisionEntry\r\n",
      "moveit_msgs/AllowedCollisionMatrix\r\n",
      "moveit_msgs/AttachedCollisionObject\r\n",
      "moveit_msgs/BoundingVolume\r\n",
      "moveit_msgs/CollisionObject\r\n",
      "moveit_msgs/ConstraintEvalResult\r\n",
      "moveit_msgs/Constraints\r\n",
      "moveit_msgs/ContactInformation\r\n",
      "moveit_msgs/CostSource\r\n",
      "moveit_msgs/DisplayRobotState\r\n",
      "moveit_msgs/DisplayTrajectory\r\n",
      "moveit_msgs/ExecuteTrajectoryAction\r\n",
      "moveit_msgs/ExecuteTrajectoryActionFeedback\r\n",
      "moveit_msgs/ExecuteTrajectoryActionGoal\r\n",
      "moveit_msgs/ExecuteTrajectoryActionResult\r\n",
      "moveit_msgs/ExecuteTrajectoryFeedback\r\n",
      "moveit_msgs/ExecuteTrajectoryGoal\r\n",
      "moveit_msgs/ExecuteTrajectoryResult\r\n",
      "moveit_msgs/Grasp\r\n",
      "moveit_msgs/GripperTranslation\r\n",
      "moveit_msgs/JointConstraint\r\n",
      "moveit_msgs/JointLimits\r\n",
      "moveit_msgs/KinematicSolverInfo\r\n",
      "moveit_msgs/LinkPadding\r\n",
      "moveit_msgs/LinkScale\r\n",
      "moveit_msgs/MotionPlanDetailedResponse\r\n",
      "moveit_msgs/MotionPlanRequest\r\n",
      "moveit_msgs/MotionPlanResponse\r\n",
      "moveit_msgs/MoveGroupAction\r\n",
      "moveit_msgs/MoveGroupActionFeedback\r\n",
      "moveit_msgs/MoveGroupActionGoal\r\n",
      "moveit_msgs/MoveGroupActionResult\r\n",
      "moveit_msgs/MoveGroupFeedback\r\n",
      "moveit_msgs/MoveGroupGoal\r\n",
      "moveit_msgs/MoveGroupResult\r\n",
      "moveit_msgs/MoveItErrorCodes\r\n",
      "moveit_msgs/ObjectColor\r\n",
      "moveit_msgs/OrientationConstraint\r\n",
      "moveit_msgs/OrientedBoundingBox\r\n",
      "moveit_msgs/PickupAction\r\n",
      "moveit_msgs/PickupActionFeedback\r\n",
      "moveit_msgs/PickupActionGoal\r\n",
      "moveit_msgs/PickupActionResult\r\n",
      "moveit_msgs/PickupFeedback\r\n",
      "moveit_msgs/PickupGoal\r\n",
      "moveit_msgs/PickupResult\r\n",
      "moveit_msgs/PlaceAction\r\n",
      "moveit_msgs/PlaceActionFeedback\r\n",
      "moveit_msgs/PlaceActionGoal\r\n",
      "moveit_msgs/PlaceActionResult\r\n",
      "moveit_msgs/PlaceFeedback\r\n",
      "moveit_msgs/PlaceGoal\r\n",
      "moveit_msgs/PlaceLocation\r\n",
      "moveit_msgs/PlaceResult\r\n",
      "moveit_msgs/PlannerInterfaceDescription\r\n",
      "moveit_msgs/PlannerParams\r\n",
      "moveit_msgs/PlanningOptions\r\n",
      "moveit_msgs/PlanningScene\r\n",
      "moveit_msgs/PlanningSceneComponents\r\n",
      "moveit_msgs/PlanningSceneWorld\r\n",
      "moveit_msgs/PositionConstraint\r\n",
      "moveit_msgs/PositionIKRequest\r\n",
      "moveit_msgs/RobotState\r\n",
      "moveit_msgs/RobotTrajectory\r\n",
      "moveit_msgs/TrajectoryConstraints\r\n",
      "moveit_msgs/VisibilityConstraint\r\n",
      "moveit_msgs/WorkspaceParameters\r\n",
      "nav_msgs/GetMapAction\r\n",
      "nav_msgs/GetMapActionFeedback\r\n",
      "nav_msgs/GetMapActionGoal\r\n",
      "nav_msgs/GetMapActionResult\r\n",
      "nav_msgs/GetMapFeedback\r\n",
      "nav_msgs/GetMapGoal\r\n",
      "nav_msgs/GetMapResult\r\n",
      "nav_msgs/GridCells\r\n",
      "nav_msgs/MapMetaData\r\n",
      "nav_msgs/OccupancyGrid\r\n",
      "nav_msgs/Odometry\r\n",
      "nav_msgs/Path\r\n",
      "object_recognition_msgs/ObjectInformation\r\n",
      "object_recognition_msgs/ObjectRecognitionAction\r\n",
      "object_recognition_msgs/ObjectRecognitionActionFeedback\r\n",
      "object_recognition_msgs/ObjectRecognitionActionGoal\r\n",
      "object_recognition_msgs/ObjectRecognitionActionResult\r\n",
      "object_recognition_msgs/ObjectRecognitionFeedback\r\n",
      "object_recognition_msgs/ObjectRecognitionGoal\r\n",
      "object_recognition_msgs/ObjectRecognitionResult\r\n",
      "object_recognition_msgs/ObjectType\r\n",
      "object_recognition_msgs/RecognizedObject\r\n",
      "object_recognition_msgs/RecognizedObjectArray\r\n",
      "object_recognition_msgs/Table\r\n",
      "object_recognition_msgs/TableArray\r\n",
      "octomap_msgs/Octomap\r\n",
      "octomap_msgs/OctomapWithPose\r\n",
      "pcl_msgs/ModelCoefficients\r\n",
      "pcl_msgs/PointIndices\r\n",
      "pcl_msgs/PolygonMesh\r\n",
      "pcl_msgs/Vertices\r\n",
      "rosapi/TypeDef\r\n",
      "roscpp/Logger\r\n",
      "rosgraph_msgs/Clock\r\n",
      "rosgraph_msgs/Log\r\n",
      "rosgraph_msgs/TopicStatistics\r\n",
      "rospy_tutorials/Floats\r\n",
      "rospy_tutorials/HeaderString\r\n",
      "sensor_msgs/BatteryState\r\n",
      "sensor_msgs/CameraInfo\r\n",
      "sensor_msgs/ChannelFloat32\r\n",
      "sensor_msgs/CompressedImage\r\n",
      "sensor_msgs/FluidPressure\r\n",
      "sensor_msgs/Illuminance\r\n",
      "sensor_msgs/Image\r\n",
      "sensor_msgs/Imu\r\n",
      "sensor_msgs/JointState\r\n",
      "sensor_msgs/Joy\r\n",
      "sensor_msgs/JoyFeedback\r\n",
      "sensor_msgs/JoyFeedbackArray\r\n",
      "sensor_msgs/LaserEcho\r\n",
      "sensor_msgs/LaserScan\r\n",
      "sensor_msgs/MagneticField\r\n",
      "sensor_msgs/MultiDOFJointState\r\n",
      "sensor_msgs/MultiEchoLaserScan\r\n",
      "sensor_msgs/NavSatFix\r\n",
      "sensor_msgs/NavSatStatus\r\n",
      "sensor_msgs/PointCloud\r\n",
      "sensor_msgs/PointCloud2\r\n",
      "sensor_msgs/PointField\r\n",
      "sensor_msgs/Range\r\n",
      "sensor_msgs/RegionOfInterest\r\n",
      "sensor_msgs/RelativeHumidity\r\n",
      "sensor_msgs/Temperature\r\n",
      "sensor_msgs/TimeReference\r\n",
      "shape_msgs/Mesh\r\n",
      "shape_msgs/MeshTriangle\r\n",
      "shape_msgs/Plane\r\n",
      "shape_msgs/SolidPrimitive\r\n",
      "smach_msgs/SmachContainerInitialStatusCmd\r\n",
      "smach_msgs/SmachContainerStatus\r\n",
      "smach_msgs/SmachContainerStructure\r\n",
      "std_msgs/Bool\r\n",
      "std_msgs/Byte\r\n",
      "std_msgs/ByteMultiArray\r\n",
      "std_msgs/Char\r\n",
      "std_msgs/ColorRGBA\r\n",
      "std_msgs/Duration\r\n",
      "std_msgs/Empty\r\n",
      "std_msgs/Float32\r\n",
      "std_msgs/Float32MultiArray\r\n",
      "std_msgs/Float64\r\n",
      "std_msgs/Float64MultiArray\r\n",
      "std_msgs/Header\r\n",
      "std_msgs/Int16\r\n",
      "std_msgs/Int16MultiArray\r\n",
      "std_msgs/Int32\r\n",
      "std_msgs/Int32MultiArray\r\n",
      "std_msgs/Int64\r\n",
      "std_msgs/Int64MultiArray\r\n",
      "std_msgs/Int8\r\n",
      "std_msgs/Int8MultiArray\r\n",
      "std_msgs/MultiArrayDimension\r\n",
      "std_msgs/MultiArrayLayout\r\n",
      "std_msgs/String\r\n",
      "std_msgs/Time\r\n",
      "std_msgs/UInt16\r\n",
      "std_msgs/UInt16MultiArray\r\n",
      "std_msgs/UInt32\r\n",
      "std_msgs/UInt32MultiArray\r\n",
      "std_msgs/UInt64\r\n",
      "std_msgs/UInt64MultiArray\r\n",
      "std_msgs/UInt8\r\n",
      "std_msgs/UInt8MultiArray\r\n",
      "stereo_msgs/DisparityImage\r\n",
      "tf/tfMessage\r\n",
      "tf2_msgs/LookupTransformAction\r\n",
      "tf2_msgs/LookupTransformActionFeedback\r\n",
      "tf2_msgs/LookupTransformActionGoal\r\n",
      "tf2_msgs/LookupTransformActionResult\r\n",
      "tf2_msgs/LookupTransformFeedback\r\n",
      "tf2_msgs/LookupTransformGoal\r\n",
      "tf2_msgs/LookupTransformResult\r\n",
      "tf2_msgs/TF2Error\r\n",
      "tf2_msgs/TFMessage\r\n",
      "theora_image_transport/Packet\r\n",
      "trajectory_msgs/JointTrajectory\r\n",
      "trajectory_msgs/JointTrajectoryPoint\r\n",
      "trajectory_msgs/MultiDOFJointTrajectory\r\n",
      "trajectory_msgs/MultiDOFJointTrajectoryPoint\r\n",
      "turtle_actionlib/ShapeAction\r\n",
      "turtle_actionlib/ShapeActionFeedback\r\n",
      "turtle_actionlib/ShapeActionGoal\r\n",
      "turtle_actionlib/ShapeActionResult\r\n",
      "turtle_actionlib/ShapeFeedback\r\n",
      "turtle_actionlib/ShapeGoal\r\n",
      "turtle_actionlib/ShapeResult\r\n",
      "turtle_actionlib/Velocity\r\n",
      "turtlesim/Color\r\n",
      "turtlesim/Pose\r\n",
      "visualization_msgs/ImageMarker\r\n",
      "visualization_msgs/InteractiveMarker\r\n",
      "visualization_msgs/InteractiveMarkerControl\r\n",
      "visualization_msgs/InteractiveMarkerFeedback\r\n",
      "visualization_msgs/InteractiveMarkerInit\r\n",
      "visualization_msgs/InteractiveMarkerPose\r\n",
      "visualization_msgs/InteractiveMarkerUpdate\r\n",
      "visualization_msgs/Marker\r\n",
      "visualization_msgs/MarkerArray\r\n",
      "visualization_msgs/MenuEntry\r\n"
     ]
    }
   ],
   "source": [
    "!rosmsg list"
   ]
  },
  {
   "cell_type": "code",
   "execution_count": 49,
   "metadata": {},
   "outputs": [
    {
     "name": "stdout",
     "output_type": "stream",
     "text": [
      "float32 x\r\n",
      "float32 y\r\n",
      "float32 theta\r\n",
      "float32 linear_velocity\r\n",
      "float32 angular_velocity\r\n",
      "\r\n"
     ]
    }
   ],
   "source": [
    "!rosmsg info turtlesim/Pose"
   ]
  },
  {
   "cell_type": "markdown",
   "metadata": {},
   "source": [
    "### Schildkrötenbefehle\n",
    "\n",
    "Wir können jetzt einfach mal versuchen, der Schildkröte einen Befehl zu schicken.\n",
    "Das könne wir auf dem Kanal /turtle1/cmd_vel.\n",
    "Findet doch mal heraus, welcher Message-Typ hier genutzt wird und wie wir ihn importieren können - das geht genau so wie gerade eben!"
   ]
  },
  {
   "cell_type": "code",
   "execution_count": 50,
   "metadata": {},
   "outputs": [
    {
     "name": "stdout",
     "output_type": "stream",
     "text": [
      "Type: geometry_msgs/Twist\r\n",
      "\r\n",
      "Publishers: None\r\n",
      "\r\n",
      "Subscribers: \r\n",
      " * /turtlesim_node (http://AURORA-ML:35015/)\r\n",
      "\r\n",
      "\r\n"
     ]
    }
   ],
   "source": [
    "# implement here!"
   ]
  },
  {
   "cell_type": "code",
   "execution_count": 8,
   "metadata": {},
   "outputs": [],
   "source": [
    "# we import the definition of a Twist message\n",
    "from geometry_msgs.msg import Twist "
   ]
  },
  {
   "cell_type": "markdown",
   "metadata": {},
   "source": [
    "Wir erzeugen nun erst einmal einen *Publisher*, der uns ein einfaches und persistentes Interface bietet, um *Messages* zu publizieren. Wir nutzen dazu die Publisher Klasse und übergeben noch die Information zu Kanalnamen und dem zugehörigem Messageformat:"
   ]
  },
  {
   "cell_type": "code",
   "execution_count": 9,
   "metadata": {},
   "outputs": [
    {
     "name": "stderr",
     "output_type": "stream",
     "text": [
      "/usr/local/lib/python2.7/dist-packages/ipykernel_launcher.py:2: SyntaxWarning: The publisher should be created with an explicit keyword argument 'queue_size'. Please see http://wiki.ros.org/rospy/Overview/Publishers%20and%20Subscribers for more information.\n",
      "  \n"
     ]
    }
   ],
   "source": [
    "# we create a publisher for a \"/turtle1/cmd_vel\" topic\n",
    "twist_publisher = rospy.Publisher(\"/turtle1/cmd_vel\",Twist) "
   ]
  },
  {
   "cell_type": "markdown",
   "metadata": {},
   "source": [
    "Um jetzt eine Message zu schicken, holen wir uns das Format als Blaupause und schauen uns mal an, welche Information dabei geschickt wird:"
   ]
  },
  {
   "cell_type": "code",
   "execution_count": 10,
   "metadata": {},
   "outputs": [],
   "source": [
    "message = Twist()"
   ]
  },
  {
   "cell_type": "code",
   "execution_count": 11,
   "metadata": {},
   "outputs": [
    {
     "data": {
      "text/plain": [
       "linear: \n",
       "  x: 0.0\n",
       "  y: 0.0\n",
       "  z: 0.0\n",
       "angular: \n",
       "  x: 0.0\n",
       "  y: 0.0\n",
       "  z: 0.0"
      ]
     },
     "execution_count": 11,
     "metadata": {},
     "output_type": "execute_result"
    }
   ],
   "source": [
    "message"
   ]
  },
  {
   "cell_type": "markdown",
   "metadata": {},
   "source": [
    "Ändern wir also die Sollgeschwindigkeit einmal für die Drehung um die Z-Achse und senden diese mit dem *publish* Befehl zu unserer Schildkröte"
   ]
  },
  {
   "cell_type": "code",
   "execution_count": 12,
   "metadata": {},
   "outputs": [],
   "source": [
    "message.angular.z = 1"
   ]
  },
  {
   "cell_type": "code",
   "execution_count": 13,
   "metadata": {},
   "outputs": [
    {
     "data": {
      "text/plain": [
       "linear: \n",
       "  x: 0.0\n",
       "  y: 0.0\n",
       "  z: 0.0\n",
       "angular: \n",
       "  x: 0.0\n",
       "  y: 0.0\n",
       "  z: 1"
      ]
     },
     "execution_count": 13,
     "metadata": {},
     "output_type": "execute_result"
    }
   ],
   "source": [
    "message"
   ]
  },
  {
   "cell_type": "code",
   "execution_count": 14,
   "metadata": {},
   "outputs": [],
   "source": [
    "twist_publisher.publish(message)"
   ]
  },
  {
   "cell_type": "markdown",
   "metadata": {},
   "source": [
    "Wie wir sehen, führt die Schildkröte den Befehl nur für eine gewisse Zeit aus und resettet den Befehl danach wieder. Wir müssen also dauerhaft einen Befehl senden, wenn wir wollen, dass die Schildkröte ihn länger ausführt.\n",
    "\n",
    "Um uns das Leben einfacher zu machen, definieren wir eine Funktion, die uns die repetetive Ausführung übernimmt:"
   ]
  },
  {
   "cell_type": "code",
   "execution_count": 15,
   "metadata": {},
   "outputs": [],
   "source": [
    "def move_turtle(forward_vel=0):\n",
    "    '''A function to move turtle from turtlesim simulation\n",
    "    \n",
    "    Args:\n",
    "        forward_vel (float): Linear velocity\n",
    "        rotation_vel (float): Angular velocity'''\n",
    "    message=Twist()\n",
    "    \n",
    "    message.linear.x=forward_vel\n",
    "    \n",
    "    twist_publisher.publish(message)\n",
    "    "
   ]
  },
  {
   "cell_type": "code",
   "execution_count": 16,
   "metadata": {},
   "outputs": [],
   "source": [
    "move_turtle(1)"
   ]
  },
  {
   "cell_type": "markdown",
   "metadata": {},
   "source": [
    "Leider funkioniert das Drehen um die Z Achse noch nicht. Fügt doch das bitte zur Funktion hinzu!"
   ]
  },
  {
   "cell_type": "code",
   "execution_count": 17,
   "metadata": {},
   "outputs": [],
   "source": [
    "def move_turtle(forward_vel=0,rotation_vel=0):\n",
    "    '''A function to move turtle from turtlesim simulation\n",
    "    \n",
    "    Args:\n",
    "        forward_vel (float): Linear velocity\n",
    "        rotation_vel (float): Angular velocity'''\n",
    "    message=Twist()\n",
    "    \n",
    "    message.linear.x=forward_vel\n",
    "    \n",
    "    twist_publisher.publish(message)"
   ]
  },
  {
   "cell_type": "markdown",
   "metadata": {},
   "source": [
    "Das ganze lässt sich jetzt noch in einen schönen Slider verpacken, der automatisch bei Änderungen den Befehl publiziert und man kann ein bisschen damit Herumspielen:"
   ]
  },
  {
   "cell_type": "code",
   "execution_count": 18,
   "metadata": {},
   "outputs": [
    {
     "data": {
      "application/vnd.jupyter.widget-view+json": {
       "model_id": "4c82ef4570d346b88cf16df72bb35a8e",
       "version_major": 2,
       "version_minor": 0
      },
      "text/plain": [
       "aW50ZXJhY3RpdmUoY2hpbGRyZW49KEZsb2F0U2xpZGVyKHZhbHVlPTAuMCwgZGVzY3JpcHRpb249dSdmb3J3YXJkX3ZlbCcsIG1heD0xMC4wLCBtaW49LTEwLjAsIHN0ZXA9Mi4wKSwgRmxvYXTigKY=\n"
      ]
     },
     "metadata": {},
     "output_type": "display_data"
    }
   ],
   "source": [
    "import ipywidgets\n",
    "ipywidgets.interact(move_turtle,\n",
    "                    forward_vel=ipywidgets.FloatSlider(min=-10,max=10,step=2,value=0),\n",
    "                   rotation_vel= ipywidgets.FloatSlider(min=-3,max=3,value=0));"
   ]
  },
  {
   "cell_type": "markdown",
   "metadata": {},
   "source": [
    "### Unsere erste Subscription!\n",
    "\n",
    "Ein **Subscriber** verarbeitet Messages, die auf einem bestimmten **Topic** publiziert werden. Es übergibt diese an eine Funktion, die die Message verarbeitet.\n",
    "\n",
    "Das einfachste ist erst einmal, die Message einfach auszugeben.\n",
    "Nachfolgend ist bereits der ein Subscriber definiert, es fehlen nur noch die Informationen zum Topic Kanal und zur Messageformat, die ihr noch hinzufügen müsst.\n",
    "\n",
    "Subscribed einfach mal auf dem Kanal, auf dem die Sollgeschwindigkeit publiziert wird!"
   ]
  },
  {
   "cell_type": "code",
   "execution_count": 122,
   "metadata": {},
   "outputs": [],
   "source": [
    "topic_name = \"/turtle1/cmd_vel\"\n",
    "msg_type = Twist\n",
    "\n",
    "def write_reversed(message):\n",
    "    print(message)\n",
    "    \n",
    "# now we create a new subscriber\n",
    "new_subscriber = rospy.Subscriber(topic_name,msg_type,write_reversed)"
   ]
  },
  {
   "cell_type": "markdown",
   "metadata": {},
   "source": [
    "Jetzt können wir uns auch noch anschauen, was passiert, wenn wir eine neue Message publizeren:"
   ]
  },
  {
   "cell_type": "code",
   "execution_count": 125,
   "metadata": {},
   "outputs": [
    {
     "name": "stdout",
     "output_type": "stream",
     "text": [
      "linear: \n",
      "  x: 1.0\n",
      "  y: 0.0\n",
      "  z: 0.0\n",
      "angular: \n",
      "  x: 0.0\n",
      "  y: 0.0\n",
      "  z: 1.0\n"
     ]
    }
   ],
   "source": [
    "move_turtle(1,1)"
   ]
  },
  {
   "cell_type": "markdown",
   "metadata": {},
   "source": [
    "Das wird aber auch schnell unübersichtlich: Wenn man zum Beispiel viele Messages publiziert, wie z.B. mit dem Slider. Ihr könnt das ja mal ausprobieren. Um die Verarbeitung der Messages wieder aufzuheben kann man auch die Weiterleitung einfach aufheben mittels der *unregister* Funktion:"
   ]
  },
  {
   "cell_type": "code",
   "execution_count": 126,
   "metadata": {
    "scrolled": true
   },
   "outputs": [
    {
     "data": {
      "application/vnd.jupyter.widget-view+json": {
       "model_id": "2c20f96009d8470e975a26d2a03e3705",
       "version_major": 2,
       "version_minor": 0
      },
      "text/plain": [
       "aW50ZXJhY3RpdmUoY2hpbGRyZW49KEZsb2F0U2xpZGVyKHZhbHVlPTAuMCwgZGVzY3JpcHRpb249dSdmb3J3YXJkX3ZlbCcsIG1heD0xMC4wLCBtaW49LTEwLjAsIHN0ZXA9Mi4wKSwgRmxvYXTigKY=\n"
      ]
     },
     "metadata": {},
     "output_type": "display_data"
    },
    {
     "name": "stdout",
     "output_type": "stream",
     "text": [
      "linear: \n",
      "  x: 0.0\n",
      "  y: 0.0\n",
      "  z: 0.0\n",
      "angular: \n",
      "  x: 0.0\n",
      "  y: 0.0\n",
      "  z: 0.0\n",
      "linear: \n",
      "  x: 2.0\n",
      "  y: 0.0\n",
      "  z: 0.0\n",
      "angular: \n",
      "  x: 0.0\n",
      "  y: 0.0\n",
      "  z: 0.0\n",
      "linear: \n",
      "  x: 4.0\n",
      "  y: 0.0\n",
      "  z: 0.0\n",
      "angular: \n",
      "  x: 0.0\n",
      "  y: 0.0\n",
      "  z: 0.0\n",
      "linear: \n",
      "  x: 2.0\n",
      "  y: 0.0\n",
      "  z: 0.0\n",
      "angular: \n",
      "  x: 0.0\n",
      "  y: 0.0\n",
      "  z: 0.0\n",
      "linear: \n",
      "  x: 0.0\n",
      "  y: 0.0\n",
      "  z: 0.0\n",
      "angular: \n",
      "  x: 0.0\n",
      "  y: 0.0\n",
      "  z: 0.0\n",
      "linear: \n",
      "  x: -2.0\n",
      "  y: 0.0\n",
      "  z: 0.0\n",
      "angular: \n",
      "  x: 0.0\n",
      "  y: 0.0\n",
      "  z: 0.0\n",
      "linear: \n",
      "  x: -4.0\n",
      "  y: 0.0\n",
      "  z: 0.0\n",
      "angular: \n",
      "  x: 0.0\n",
      "  y: 0.0\n",
      "  z: 0.0\n",
      "linear: \n",
      "  x: -6.0\n",
      "  y: 0.0\n",
      "  z: 0.0\n",
      "angular: \n",
      "  x: 0.0\n",
      "  y: 0.0\n",
      "  z: 0.0\n"
     ]
    }
   ],
   "source": [
    "import ipywidgets\n",
    "ipywidgets.interact(move_turtle,\n",
    "                    forward_vel=ipywidgets.FloatSlider(min=-10,max=10,step=2,value=0),\n",
    "                   rotation_vel= ipywidgets.FloatSlider(min=-3,max=3,value=0));"
   ]
  },
  {
   "cell_type": "code",
   "execution_count": 127,
   "metadata": {},
   "outputs": [],
   "source": [
    "new_subscriber.unregister()"
   ]
  },
  {
   "cell_type": "markdown",
   "metadata": {},
   "source": [
    "### ROS  Service\n",
    " \n",
    "\n",
    "Ein **Service** ist eine Funktion, die von einer Node angeboten wird. Sie besteht immer aus Argumenten, die der Node übergeben werden und Resultaten, die das Ergebnis sind. \n",
    "Andere Nodes können über diese Services unregelmäßige Ereignisse hervorrufen oder Berechnungen ausführen  lassen.\n",
    "\n",
    "So kann man sich Services anzeigen lassen"
   ]
  },
  {
   "cell_type": "code",
   "execution_count": 139,
   "metadata": {},
   "outputs": [
    {
     "name": "stdout",
     "output_type": "stream",
     "text": [
      "/Meine_Lieblingsnode_20021_1548403545760/get_loggers\r\n",
      "/Meine_Lieblingsnode_20021_1548403545760/set_logger_level\r\n",
      "/clear\r\n",
      "/kill\r\n",
      "/reset\r\n",
      "/rosout/get_loggers\r\n",
      "/rosout/set_logger_level\r\n",
      "/spawn\r\n",
      "/turtle1/set_pen\r\n",
      "/turtle1/teleport_absolute\r\n",
      "/turtle1/teleport_relative\r\n",
      "/turtlesim_node/get_loggers\r\n",
      "/turtlesim_node/set_logger_level\r\n"
     ]
    }
   ],
   "source": [
    "!rosservice list"
   ]
  },
  {
   "cell_type": "markdown",
   "metadata": {},
   "source": [
    "Wichtige Infos bekommt man über so. Es gibt hier auch ein Format (Type) und Argumente (Args)"
   ]
  },
  {
   "cell_type": "code",
   "execution_count": 140,
   "metadata": {},
   "outputs": [
    {
     "name": "stdout",
     "output_type": "stream",
     "text": [
      "Node: /turtlesim_node\r\n",
      "URI: rosrpc://AURORA-ML:51863\r\n",
      "Type: turtlesim/Spawn\r\n",
      "Args: x y theta name\r\n"
     ]
    }
   ],
   "source": [
    "!rosservice info /spawn"
   ]
  },
  {
   "cell_type": "code",
   "execution_count": 143,
   "metadata": {},
   "outputs": [
    {
     "name": "stdout",
     "output_type": "stream",
     "text": [
      "Node: /turtlesim_node\r\n",
      "URI: rosrpc://AURORA-ML:51863\r\n",
      "Type: std_srvs/Empty\r\n",
      "Args: \r\n"
     ]
    }
   ],
   "source": [
    "!rosservice info /reset"
   ]
  },
  {
   "cell_type": "markdown",
   "metadata": {},
   "source": [
    "Argumente und Rückgabewerte der Services kann man sich so anzeigen lassen:"
   ]
  },
  {
   "cell_type": "code",
   "execution_count": 144,
   "metadata": {},
   "outputs": [
    {
     "name": "stdout",
     "output_type": "stream",
     "text": [
      "float32 x\r\n",
      "float32 y\r\n",
      "float32 theta\r\n",
      "string name\r\n",
      "---\r\n",
      "string name\r\n",
      "\r\n"
     ]
    }
   ],
   "source": [
    "!rossrv show turtlesim/Spawn"
   ]
  },
  {
   "cell_type": "code",
   "execution_count": 146,
   "metadata": {},
   "outputs": [
    {
     "name": "stdout",
     "output_type": "stream",
     "text": [
      "string name\r\n",
      "---\r\n",
      "\r\n"
     ]
    }
   ],
   "source": [
    "!rossrv show turtlesim/Kill"
   ]
  },
  {
   "cell_type": "code",
   "execution_count": 129,
   "metadata": {},
   "outputs": [
    {
     "name": "stdout",
     "output_type": "stream",
     "text": [
      "float32 x\r\n",
      "float32 y\r\n",
      "float32 theta\r\n",
      "---\r\n",
      "\r\n"
     ]
    }
   ],
   "source": [
    "!rossrv show turtlesim/TeleportAbsolute"
   ]
  },
  {
   "cell_type": "markdown",
   "metadata": {},
   "source": [
    "Services haben Rückmeldungen: mit ServiceProxy kann man ähnlich wie ein Subscriber eine Möglichkeit erzeugen, direkt Services anzusprechen und wie eine normale Funktion zu nutzen.\n",
    "\n",
    "Wir können einfach einmal eine neue Schildkröte erzeugen. Dabei müssen wir Lage, Orientierung und Name der neuen Kröte angeben:"
   ]
  },
  {
   "cell_type": "code",
   "execution_count": 19,
   "metadata": {},
   "outputs": [
    {
     "name": "stdout",
     "output_type": "stream",
     "text": [
      "Neuer Name ist NeuerTurtleName\n"
     ]
    }
   ],
   "source": [
    "from turtlesim.srv import Spawn, Kill\n",
    "from math import pi\n",
    "\n",
    "\n",
    "## here create a service proxy function for /turtle1/teleport_absolute of TeleportAbsolute type\n",
    "srv_spawn = rospy.ServiceProxy(\"/spawn\",Spawn)\n",
    "\n",
    "\n",
    "Return_value = srv_spawn(10,10,0,\"NeuerTurtleName\")\n",
    "print(\"Neuer Name ist \" + Return_value.name)\n"
   ]
  },
  {
   "cell_type": "markdown",
   "metadata": {},
   "source": [
    "Unsere Schildkröten sind eher Einzelgänger, deswegen sollten wir den neuen Eindringling am besten gleich entfernen ;). Nutze dazu den Service */kill*. Das geht ganz analog zu Spawn!"
   ]
  },
  {
   "cell_type": "code",
   "execution_count": 20,
   "metadata": {},
   "outputs": [
    {
     "data": {
      "text/plain": []
     },
     "execution_count": 20,
     "metadata": {},
     "output_type": "execute_result"
    }
   ],
   "source": [
    "#implement here!"
   ]
  },
  {
   "cell_type": "markdown",
   "metadata": {},
   "source": [
    "Man kann seine Kröten auch herumteleportieren!\n",
    "Dazu kann man den Service */turtle1/teleport_absolute*, analog zu den vorherigen Übungen und teleportiere die Schildkröte mal irgendwo hin ;-)"
   ]
  },
  {
   "cell_type": "code",
   "execution_count": 169,
   "metadata": {},
   "outputs": [],
   "source": [
    "#implement here!"
   ]
  },
  {
   "cell_type": "markdown",
   "metadata": {},
   "source": [
    "Jetzt noch schnell das Fenster schließen und den *roscore* beenden!"
   ]
  },
  {
   "cell_type": "code",
   "execution_count": 170,
   "metadata": {},
   "outputs": [],
   "source": [
    "roscore_process.kill()"
   ]
  },
  {
   "cell_type": "markdown",
   "metadata": {},
   "source": [
    "## Jetzt können wir das ganze in einem komplexeren Beispiel ausprobieren! \n",
    "## [Übung 2](UR5_Sim.ipynb)"
   ]
  }
 ],
 "metadata": {
  "kernelspec": {
   "display_name": "Python 2",
   "language": "python2",
   "name": "python2"
  },
  "language_info": {
   "codemirror_mode": {
    "name": "ipython",
    "version": 2
   },
   "file_extension": ".py",
   "mimetype": "text/x-python",
   "name": "python",
   "nbconvert_exporter": "python",
   "pygments_lexer": "ipython2",
   "version": "2.7.12"
  }
 },
 "nbformat": 4,
 "nbformat_minor": 2
}
