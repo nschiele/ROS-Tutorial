{
 "cells": [
  {
   "cell_type": "markdown",
   "metadata": {},
   "source": [
    "# [TITLE OF EXERCISE]"
   ]
  },
  {
   "cell_type": "markdown",
   "metadata": {},
   "source": [
    "In dieser Übung werden wir uns der Verwendung von RViz.RViz, einem 3D-Visualizer, nähern, der es Ihnen ermöglicht, Sensor- und Zustandsinformationen anzuzeigen. Wir verwenden RViz, um unsere Roboter zu modellieren, bevor wir tatsächliche Hardware einsetzen.\n",
    "\n",
    "## RViz starten\n",
    "\n",
    "RViz als Programm zu starten ist sehr einfach. Du kannst es ganz einfach tun, indem du die folgende Codezeile ausführst. Bevor Sie dies tun, stellen Sie sicher, dass roscore läuft."
   ]
  },
  {
   "cell_type": "code",
   "execution_count": 15,
   "metadata": {},
   "outputs": [
    {
     "name": "stdout",
     "output_type": "stream",
     "text": [
      "\u001b[0m[ INFO] [1555581896.468486378]: rviz version 1.12.16\u001b[0m\n",
      "\u001b[0m[ INFO] [1555581896.468593373]: compiled against Qt version 5.5.1\u001b[0m\n",
      "\u001b[0m[ INFO] [1555581896.468609855]: compiled against OGRE version 1.9.0 (Ghadamon)\u001b[0m\n",
      "\u001b[0m[ INFO] [1555581896.875236681]: Stereo is NOT SUPPORTED\u001b[0m\n",
      "\u001b[0m[ INFO] [1555581896.875379364]: OpenGl version: 3 (GLSL 1.3).\u001b[0m\n",
      "0x2725ca0 void QWindowPrivate::setTopLevelScreen(QScreen*, bool) ( QScreen(0x1bd7fd0) ): Attempt to set a screen on a child window.\n",
      "0x272a0b0 void QWindowPrivate::setTopLevelScreen(QScreen*, bool) ( QScreen(0x1bd7fd0) ): Attempt to set a screen on a child window.\n",
      "0x2726650 void QWindowPrivate::setTopLevelScreen(QScreen*, bool) ( QScreen(0x1bd7fd0) ): Attempt to set a screen on a child window.\n",
      "0x28ffe00 void QWindowPrivate::setTopLevelScreen(QScreen*, bool) ( QScreen(0x1bd7fd0) ): Attempt to set a screen on a child window.\n",
      "0x29a54d0 void QWindowPrivate::setTopLevelScreen(QScreen*, bool) ( QScreen(0x1bd7fd0) ): Attempt to set a screen on a child window.\n",
      "0x29e9540 void QWindowPrivate::setTopLevelScreen(QScreen*, bool) ( QScreen(0x1bd7fd0) ): Attempt to set a screen on a child window.\n",
      "0x2a04c40 void QWindowPrivate::setTopLevelScreen(QScreen*, bool) ( QScreen(0x1bd7fd0) ): Attempt to set a screen on a child window.\n"
     ]
    }
   ],
   "source": [
    "!rosrun rviz rviz"
   ]
  },
  {
   "cell_type": "markdown",
   "metadata": {},
   "source": [
    "Es sollte ein neues Fenster erscheinen, das wie folgt aussieht. \n",
    "\n",
    "<img src=\"img/RViz1.jpg\" alt=\"RViz1\" style=\"width: 800px;\"/>\n",
    "\n",
    "Sie sollten beachten, dass in der Symbolleiste auf der linken Seite ein Fehler aufgetreten ist. \n",
    "\n",
    "Da steht: \"Keine tf-Daten.  Tatsächlicher Fehler: Fixed Frame[map] existiert nicht\". Als nächstes werden wir sicherstellen, dass tf-Daten vorhanden sind und dass wir einen festen Rahmen haben, auf dem wir andere Informationen übertragen können."
   ]
  },
  {
   "attachments": {
    "refframe.png": {
     "image/png": "[encoded data removed]"
    }
   },
   "cell_type": "markdown",
   "metadata": {},
   "source": [
    "## tf Frames\n",
    "\n",
    "Wenn wir den Unterschied zwischen der Bewegung von Objekt1 und Objekt2 finden wollten, wie würden wir das tun? In ROS benötigen wir Funktionalität, um sowohl auf Objekte verweisen als auch deren Position, Geschwindigkeit usw. vergleichen zu können. Die tf-Frames erlauben es uns, dies zu tun. Wie bewegt sich der Greifer in Bezug auf einen Arm? Vergleichen Sie den Greifer tf Rahmen mit dem Arm tf Rahmen. Wenn wir daran arbeiten wollten, wie sich ein Laser bewegt, wäre es am einfachsten, dies in Bezug auf den Laser zu tun, anstatt zu versuchen, das zu bewegen, woran der Laser befestigt ist. Wenn wir den Abstand zwischen zwei Elementen wollten, würden wir den Abstand zwischen ihren Rahmen finden.\n",
    "\n",
    "<img src=\"img/tfframes.png\" alt=\"tf Frames\" style=\"width: 400px;\"/>\n",
    "\n",
    "\n",
    "Zusätzlich pflegt tf eine heirachy zwischen den Frames. tf pflegt diese Erbarchitektur mit einem Baum. Im obigen Beispiel sehen wir den Rahmen \"Welt\". Dieser Rahmen ist unser Hintergrund, und er ist während unserer gesamten Simulation statisch. Dann haben wir den Turtle1-Rahmen, der vermutlich für einen Turtleboter ist. Dieser Rahmen wird sich basierend auf der Bewegung unserer Schildkröten-Simulation bewegen. Wir haben einen anderen Rahmen für eine Schildkröte, turle2. Beachten Sie im Beispiel, dass ein Pfeil nicht zwischen Schildkröte1 und Schildkröte2 verläuft, da diese beiden Rahmen keine Abhängigkeit haben. Beide sind abhängig vom World (Parent) Frame (alle tf Frames sind entweder ein Parent- oder ein Child Frame, oder beides). Es gibt einen letzten Rahmen namens \"carrot1\". Dieser Rahmen hat eine Abhängigkeit von \"turtle2\". Diese Abhängigkeit könnte beispielsweise sein, dass die Position von carrot1 auf der Position von turtle2 basiert.\n",
    "\n",
    "### Fester Rahmen\n",
    "\n",
    "Der Fixed Frame bietet einen Bezugsrahmen für die Visualisierungen in RViz. Denken Sie an das klassische physikalische Problem, dass zwei Autos aufeinander zu fahren. Wenn ein Auto mit 25 m/s und das andere Auto mit 35 m/s fährt, dann bewegt sich jedes Auto von einem festen Bezugspunkt aus mit der Geschwindigkeit, mit der es sich bewegt. Ausgehend vom Bezugsrahmen eines der Autos bewegt sich das Auto nicht und das andere Auto bewegt sich mit 60m/s.\n",
    "\n",
    "![refframe.png](attachment:refframe.png)\n",
    "\n",
    "Der Fixed Frame in RViz ähnelt dem Bezugsrahmen des physikalischen Problems. Damit unsere Simulationen sinnvoll sind, brauchen wir einen Bezugsrahmen. Wenn unser Bezugssystem der Arm eines Roboters wäre, wäre der Arm immer statisch und jedes andere Element, einschließlich des Hintergrunds, würde sich um ihn herum bewegen.  Die meisten Elemente haben einen Rahmen, der Fixed Frame in RViz ist der tf-Frame, den wir als Bezugsrahmen für unsere Simulation auswählen.\n",
    "\n",
    "In RViz wird also, unabhängig davon, welchen tf-Rahmen wir als unseren festen Rahmen festlegen, dieser Rahmen unser Bezugsrahmen sein. Was auch immer (0,0,0,0) für den tf-Frame ist, der als Fixed Frame eingestellt ist, ist (0,0,0,0) definiert in RViz. Es gibt keinen absoluten Hintergrund, keinen universellen Ursprungspunkt. Es gibt nur die Unterschiede zwischen definierten Frames.\n",
    "\n",
    "\n",
    "\n",
    "#### Anzeigen von tf-Daten\n",
    "\n",
    "Wir beginnen damit, zu sehen, welche tf-Daten veröffentlicht werden. Jeder feste Rahmen gibt Daten aus, die wir uns ansehen können. Führen Sie die folgende Codezeile in einem Terminal aus, es wird 5 Sekunden lang auf alle tf-Daten warten, dann einen tf-Baum erstellen und ihn in einer.pdf-Datei veröffentlichen.\n"
   ]
  },
  {
   "cell_type": "code",
   "execution_count": 23,
   "metadata": {},
   "outputs": [
    {
     "name": "stdout",
     "output_type": "stream",
     "text": [
      "Listening to /tf for 5.000000 seconds\n",
      "Done Listening\n",
      "dot - graphviz version 2.38.0 (20140413.2041)\n",
      "\n",
      "Detected dot version 2.38\n",
      "frames.pdf generated\n"
     ]
    }
   ],
   "source": [
    "!rosrun tf view_frames\n",
    "\n",
    "!evince frames.pdf"
   ]
  },
  {
   "cell_type": "markdown",
   "metadata": {},
   "source": [
    "Die resultierende pdf-Datei zeigt, dass es keine aktiven tf-Frames gibt. Daher gibt es keine tf-Daten zum Anhören. Als nächstes erzeugen wir einige tf-Daten, die wir uns anhören können.\n",
    "\n",
    "#### Veröffentlichung eines tf-Frames\n",
    "\n",
    "Es gibt einen relativ einfachen Befehl, der einen tf-Frame relativ zur \"Welt\" veröffentlichen kann. Der Befehl, den wir im Terminal ausführen möchten, lautet:\n"
   ]
  },
  {
   "cell_type": "code",
   "execution_count": 44,
   "metadata": {},
   "outputs": [
    {
     "ename": "SyntaxError",
     "evalue": "invalid syntax (<ipython-input-44-d772417de3cc>, line 1)",
     "output_type": "error",
     "traceback": [
      "\u001b[0;36m  File \u001b[0;32m\"<ipython-input-44-d772417de3cc>\"\u001b[0;36m, line \u001b[0;32m1\u001b[0m\n\u001b[0;31m    static_transform_publisher 5 0 0 0 0 0 1 world world1\u001b[0m\n\u001b[0m                               ^\u001b[0m\n\u001b[0;31mSyntaxError\u001b[0m\u001b[0;31m:\u001b[0m invalid syntax\n"
     ]
    }
   ],
   "source": [
    "static_transform_publisher 5 0 0 0 0 0 1 world world1"
   ]
  },
  {
   "cell_type": "markdown",
   "metadata": {},
   "source": [
    "Dieser Befehl kann auch im folgenden Jupyter-Notebook ausgeführt werden,"
   ]
  },
  {
   "cell_type": "code",
   "execution_count": 14,
   "metadata": {},
   "outputs": [],
   "source": [
    "import subprocess\n",
    "world1_tf_process=subprocess.Popen([\"static_transform_publisher\", \"5\", \"0\", \"0\", \"0\", \"0\", \"0\", \"1\", \"world\", \"world1\"])"
   ]
  },
  {
   "cell_type": "markdown",
   "metadata": {},
   "source": [
    "Wenn Sie nun den Befehl zum Hören von tf-Daten erneut ausführen, sollten Sie einen tf-Baum mit zwei Elementen sehen, der Welt und Welt1. Zusätzlich können Sie RViz neu starten und den Fixed Frame entweder auf die Welt oder auf world1 einstellen.\n",
    "\n",
    "Der Befehl static_transform_publisher erstellt ein untergeordnetes tf-Frame aus einem Basis-Tf-Frame. In diesem Fall ist unser Kinder-Tf-Rahmen world1 und der Basis-Tf-Rahmen world1. Die ersten drei numerierten Argumente sind die Argumente x, y, z in Bezug auf unseren tf-Basisrahmen. Damit ist die Welt1 auf der x-Achse um fünf verschoben. Die nächsten vier Argumente sind Rotationsdaten, so dass world1 im Vergleich zur world leicht gedreht wird. \n",
    "\n",
    "Es gibt hier drei wichtige Dinge zu beachten, die bei tf frames zu beachten sind,\n",
    "\n",
    "* Ein tf-Frame muss eine Übersetzung haben, um zu existieren. Es ist nicht möglich, eine 0-Übersetzung zu haben, die nur einen Unterrahmen erstellt, der mit dem übergeordneten Rahmen identisch ist. tf erlaubt dies nicht. Ein Unterrahmen könnte jedoch die Übersetzung rückgängig machen, die sein übergeordneter Rahmen macht und immer noch gültig ist (z.B. verschiebt world1 alles nach x+1, world2 könnte alles nach x-1 verschieben und somit wäre world2 gleichwertig mit world, aber diese werden als unterschiedliche tf-Frames betrachtet).\n",
    "\n",
    "* In ähnlicher Weise ist jeder Rahmen entweder ein übergeordneter Rahmen, ein Unterrahmen oder beides. Ein Frame kann ohne seine Verbindung zu anderen Frames nicht existieren. Auch hier gibt es keine universellen Konstanten, sondern nur die Beziehungen zwischen tf-Frames.\n",
    "\n",
    "* Wenn tf mit widersprüchlichen Transformationen versehen ist (z.B. Welt -> Wolrd1 -> Welt2 ist nicht gleich Welt -> Welt2), dann ist diejenige Transformation, die zuerst genannt wurde, die im tf-Baum aktiv ist. Die zweite Übersetzung wird ignoriert. \n",
    "\n",
    "Nun, da wir tf Frames verstehen, lassen Sie uns etwas senden, das wir in unseren Rahmen stellen können."
   ]
  },
  {
   "cell_type": "markdown",
   "metadata": {},
   "source": [
    "## Publisher\n",
    "\n",
    "Wir haben in der letzten Übung ein wenig über die Veröffentlichung bzw. das Abonnement gesprochen. Es ist eine kritische Idee in ROS, da es darum geht, wie Informationen zwischen verschiedenen Elementen gesendet werden. In diesem Teil der Übung werden wir mehrere verschiedene Publisher und Abonnenten anlegen.\n",
    "\n",
    "\n",
    "### Einen Marker veröffentlichen\n",
    "\n",
    "Ein Marker im RViz ist nur eine Form. Wir können sie als Platzhalter verwenden, um zu sehen, ob wir etwas korrekt veröffentlichen. Sie sind auch großartige Werkzeuge, um mehr über Publishing und RViz zu erfahren.\n",
    "\n",
    "#### Was ist ein Marker?\n",
    "\n",
    "Ein Marker in RViz ist ein Stand-in-Objekt. Es ist eine Möglichkeit für uns, um zu sehen, ob Informationen korrekt veröffentlicht / abonniert werden. Das Senden von tatsächlichen Roboterdaten kann sehr rechenintensiv sein (insbesondere wenn viele Daten zu übertragen sind). Darüber hinaus können die zu sendenden Daten fehlerhaft sein. Eine Möglichkeit, einen Publisher/Abonnenten zu debuggen und sicherzustellen, dass dieser Aspekt in Ordnung ist, ist die Verwendung von Markern. Marker sind einfache Objekte. Wenn wir ein Problem damit haben, dass Roboterdaten nicht angezeigt werden, können wir einen Marker senden. Wenn der Marker erscheint, wissen wir, dass der Publisher/Abonnent korrekt arbeitet und das Problem woanders liegt.\n",
    "\n",
    "Wenn Sie zum ersten Mal etwas über ROS, RViz, tf Frames, etc. lernen, sind Marker eine gute Möglichkeit, die notwendigen Fähigkeiten zu üben und zu entwickeln, um komplexere Aufgaben zu lösen. Die folgende Übung wird auf Ihr Verständnis der in dieser Übung behandelten Themen eingehen, weshalb wir sie behandeln.\n",
    "\n",
    "##### Einen Marker kodieren\n",
    "\n",
    "Zuerst müssen wir den Marker-Verlag definieren, was wir unten tun."
   ]
  },
  {
   "cell_type": "code",
   "execution_count": 55,
   "metadata": {},
   "outputs": [
    {
     "name": "stdout",
     "output_type": "stream",
     "text": [
      "Overwriting mark.py\n"
     ]
    }
   ],
   "source": [
    "%%writefile mark.py\n",
    "#!/usr/bin/env python\n",
    "\n",
    "import rospy, roslib\n",
    "import tf\n",
    "from visualization_msgs.msg import Marker\n",
    "import std_msgs.msg as stm\n",
    "from multiprocessing import Process\n",
    "\n",
    "\n",
    "def pub_mark():\n",
    "    rospy.init_node(\"mark\")\n",
    "    \n",
    "    while not rospy.is_shutdown():\n",
    "        \n",
    "        # Creates Marker object named marker\n",
    "        marker = Marker()\n",
    "        \n",
    "        # Define marker parameters\n",
    "        marker.header.frame_id = \"/world1\"\n",
    "        marker.header.stamp = rospy.Time.now()\n",
    "        marker.type = Marker.CUBE\n",
    "        marker.action = Marker.ADD\n",
    "        marker.scale.x = 1\n",
    "        marker.scale.y = 1\n",
    "        marker.scale.z = 1\n",
    "        marker.id = 10\n",
    "        marker.pose.position.x = 0;\n",
    "        marker.pose.position.y = 0;\n",
    "        marker.pose.position.z = 0;\n",
    "        marker.pose.orientation.x = 0.0;\n",
    "        marker.pose.orientation.y = 0.0;\n",
    "        marker.pose.orientation.z = 0.0;\n",
    "        marker.pose.orientation.w = 1.0;\n",
    "        marker.color = stm.ColorRGBA(r=0.0, g=1.0, b=0.0, a=0.8)\n",
    "        marker.lifetime.secs = 10\n",
    "        \n",
    "        # Schreiben Sie mit dem, was Sie in der letzten Übung gelernt haben, \n",
    "        #  einen Herausgeber vom Typ \"Marker\".\n",
    "        \n",
    "        pub.publish(marker)\n",
    "\n",
    "    \n",
    "if __name__ == \"__main__\":\n",
    "    pub_mark()\n",
    "\n",
    "\n"
   ]
  },
  {
   "cell_type": "markdown",
   "metadata": {},
   "source": [
    "#### Erklärung des Kodexes\n",
    "\n",
    "Das Wichtigste zuerst, die Import-Anweisungen. Die beiden wichtigsten sind hier der Marker von visualization_msgs.msg und die std_msgs.msg. Der Marker ist ein vordefiniertes Objekt, das uns das Leben leicht macht. Anstatt dies von Grund auf neu erstellen zu müssen, können wir den Marker einfach mit unseren eigenen Informationen ausfüllen und dann veröffentlichen. Die Datei std_msgs.msg enthält viele gängige Formate. Wir werden es benutzen, um die Farbe unseres Markers einzustellen.\n",
    "\n",
    "Die nächste wichtige Linie ist\n",
    "\n",
    "`marker = Marker()`\n",
    "\n",
    "Dadurch wird ein Marker-Objekt namens \"marker\" erstellt. Wir werden \"marker\" modifizieren und schließlich veröffentlichen. Marker ist die Outline, die in visualization_msgs.msg definiert ist, während Marker das Objekt ist, das wir selbst modifizieren.\n",
    "\n",
    "Die nächsten 16 Zeilen definieren verschiedene Parameter unseres Markers. Diese sind selbsterklärend. Ein wichtiger Hinweis ist: `marker.header.frame_id = \"/world1\"`\n",
    "\n",
    "Diese Zeile setzt die Frame-ID, durch die die Position der Marker bestimmt werden soll. Wenn wir zum Beispiel die frame_id auf \"world\" setzen und \"world\" unser Fixed Frame ist, dann ist die Position des Markers (0,0,0,0) im RViz. Wenn wir die frame_id auf \"world2\" setzen, die im Vergleich zu \"world\" (unserem Fixed Frame) um +10 auf der x-Achse verschoben ist, dann befindet sich unser Marker an der Position (10,0,0) im RViz. \n",
    "\n",
    "Eine wichtige Sache zu beachten ist, dass, wenn der Fixed Frame nicht mit der frame_id verwandt ist, der Marker nicht erscheint. Wenn wir zum Beispiel die frame_id auf \"earth\" setzen, es aber keine Übersetzung zwischen \"world\" (unser Fixed Frame) und \"earth\" gibt, dann erscheint unser Marker nicht. Denn RViz weiß nicht, wohin der Marker relativ zum festen Rahmen gehen soll.\n",
    "\n",
    "Die nächste Schlüsselzeile ist `pub = rospy.Publisher(\"Otto_von_Vismark\", Marker, queue_size=10)`. Dadurch entsteht der Publisher, der unseren Marker an RViz übermittelt. Die \"Otto_von_Vismark\" ist der Name des ROS-Themas, zu dem wir veröffentlichen, was wichtig ist, da wir den Namen dieses Themas kennen müssen, um es abonnieren zu können. Dieser Topic-Name kann alles sein, solange er nicht der Name eines anderen Topic ist. Du wirst feststellen, dass diese Linie der gleichen Linie in Übung0 sehr ähnlich ist.\n",
    "\n",
    "\n",
    "Das nächste Argument ist Marker, das lediglich die Art der Informationen angibt, die über dieses Thema gesendet werden.\n",
    "\n",
    "Schließlich veröffentlichen wir die Markierung mit dem Publisher.\n",
    "\n",
    "###### Den Publisher betreiben\n",
    "\n",
    "Die allererste Zeile des Codes im Jupyter Notebook ist `%%%writefile mark.py`. Dadurch wird einfach alles, was danach geschrieben wird, in eine Datei \"mark.py\" geschrieben. Führen Sie den obigen Code aus, um \"mark.py\" zu erstellen. Danach können wir unseren Publisher im Jupyter Notebook betreiben. Stelle zuerst sicher, dass roscore läuft. Dann stellen Sie sicher, dass unsere statische tf-Frame-Übersetzung zwischen \"world\" und \"world1\" läuft, ohne die es keine tf-Frames gibt, auf die Sie verweisen können. Führen Sie dann den folgenden Code aus. Führen Sie schließlich RViz aus.\n",
    "\n",
    "<div class=\"alert alert-block alert-warning\">\n",
    "<b>Hinweis:</b> Wenn Sie RViz zuerst ausführen, wird nichts funktionieren. Aufgrund der Art und Weise, wie Jupyter Notebooks Prozesse planen, warten die Befehle für die tf-Frame-Übersetzung und der Publisher bis zum Ende der Ausführung von RViz (da RViz im Gegensatz zur tf-Frame-Übersetzung und zum Publisher nicht im Hintergrund läuft).\n",
    "</div>\n",
    "\n"
   ]
  },
  {
   "cell_type": "code",
   "execution_count": 56,
   "metadata": {},
   "outputs": [],
   "source": [
    "import subprocess\n",
    "\n",
    "mark_publisher_process=subprocess.Popen([\"python\", \"mark.py\"])"
   ]
  },
  {
   "cell_type": "markdown",
   "metadata": {},
   "source": [
    "Das Fenster, das wir zu Beginn dieser Übung gesehen haben, hätte erscheinen müssen.\n",
    "\n",
    "Das erste, was wir tun müssen, ist, den Fixed Frame einzustellen. Wir haben derzeit zwei aktive tf-Frames, \"world\" und \"world1\". Zuerst müssen wir einen auswählen, der unser Fixed Frame ist. Da wir die frame_id unseres Markers auf \"world1\" gesetzt haben, wollen wir das als unseren Fixed Frame auswählen. Wenn Sie in den \"Globalen Optionen\" links neben Fixed Frame auf das Dropdown-Menü klicken, sollten Sie beide aktiven tf Frame sehen. Wenn du es nicht tust, bedeutet das wahrscheinlich, dass diese Frames nicht aktiv sind. Überprüfen Sie den tf-Baum, um sicherzustellen, dass beide noch existieren.\n",
    "\n",
    "Nachdem Sie den Fixed Frame ausgewählt haben, müssen wir einen Teilnehmer zu unserem Marker hinzufügen. Dies ist in RViz einfach zu tun. Gehen Sie zunächst zum unteren Rand des Bereichs \"Displays\" auf der linken Seite und klicken Sie auf \"Hinzufügen\". Finde \"Marker\" und füge ihn hinzu. Suchen Sie den Abschnitt im Marker mit dem Titel \"Marker Topic\". Klicken Sie darauf und Sie sollten den Namen des Themas sehen, das wir im Publisher definiert haben. Alternativ können Sie auch den Namen des Themas eingeben. \n",
    "\n",
    "Wenn all das erledigt ist, sollten Sie einen Bildschirm sehen, der so aussieht,\n",
    "<img src=\"img/RViz3.jpg\" alt=\"RViz2\" style=\"width: 800px;\"/>\n",
    "\n",
    "Sie werden feststellen, dass der Würfel genau in der Mitte des Gitters erscheint. \n",
    "\n",
    "<div class=\"alert alert-block alert-info\">\n",
    "<b>Versuchen Sie</b> den Fixed Frame von \"world1\" auf \"world\" zu ändern. Der Block sollte sich bewegen. Weißt du, warum?\n",
    "</div>\n",
    "\n",
    "\n",
    "\n",
    "\n",
    "\n",
    "\n",
    "\n",
    "\n",
    "\n",
    "\n",
    "\n",
    "## Abschlussübung\n",
    "\n",
    "Nun, da wir beginnen, tf Rahmen und Veröffentlichung zu verstehen, lassen Sie uns alles zusammenfassen, was wir aus dieser Übung und der letzten Übung gelernt haben. Das Verständnis, wie alle diese Themen zueinander in Beziehung stehen, ist notwendig, um die nächste Übung abzuschließen.\n",
    "\n",
    "\n",
    "<div class=\"alert alert-block alarm-erfolg\">\n",
    "<b>Ziel:</b> Bewegen Sie einen Marker im RViz, basierend auf den Bewegungen einer Schildkröte in der Schildkröte.\n",
    "</div>\n",
    "\n",
    "\n",
    "Um zu wissen, wie man unseren Marker bewegt, müssen wir zuerst Daten von Schildkröten sammeln. Wir haben das bereits in der ersten Übung getan, aber anstatt es auszudrucken, wollen wir die Informationen neu verpacken und an unseren Marker schicken.\n",
    "\n",
    "Nachfolgend finden Sie die vollständige Übersicht über den Code, der zur Erreichung unseres Ziels erforderlich ist. Einige Stücke fehlen, also müssen Sie sie unterstützen, die auf dem basieren, was Sie in den letzten zwei Übungen gelernt haben.\n",
    "\n"
   ]
  },
  {
   "cell_type": "code",
   "execution_count": 1,
   "metadata": {},
   "outputs": [
    {
     "name": "stdout",
     "output_type": "stream",
     "text": [
      "Overwriting TurtleMover.py\n"
     ]
    }
   ],
   "source": [
    "%%writefile TurtleMover.py\n",
    "#!/usr/bin/env python\n",
    "import rospy\n",
    "from std_msgs.msg import String\n",
    "from turtlesim.msg import Pose\n",
    "from visualization_msgs.msg import Marker\n",
    "import std_msgs.msg as stm\n",
    "from multiprocessing import Process\n",
    "\n",
    "\n",
    "\n",
    "def callback(data):\n",
    "\n",
    "    #Den Publisher hier eintragen\n",
    "\n",
    "\n",
    "    \n",
    "def listener():\n",
    "\n",
    "\n",
    "    rospy.init_node('listener', anonymous=True)\n",
    "\n",
    "    #Den Subscriber hier eintragen\n",
    "    \n",
    "    rospy.spin()\n",
    "\n",
    "if __name__ == '__main__':\n",
    "    listener()\n",
    "\n"
   ]
  },
  {
   "cell_type": "code",
   "execution_count": 13,
   "metadata": {},
   "outputs": [],
   "source": [
    "import subprocess\n",
    "\n",
    "mark_publisher_process=subprocess.Popen([\"python\", \"TurtleMover.py\"])"
   ]
  },
  {
   "cell_type": "markdown",
   "metadata": {},
   "source": [
    " "
   ]
  }
 ],
 "metadata": {
  "kernelspec": {
   "display_name": "Python 2",
   "language": "python",
   "name": "python2"
  },
  "language_info": {
   "codemirror_mode": {
    "name": "ipython",
    "version": 2
   },
   "file_extension": ".py",
   "mimetype": "text/x-python",
   "name": "python",
   "nbconvert_exporter": "python",
   "pygments_lexer": "ipython2",
   "version": "2.7.12"
  }
 },
 "nbformat": 4,
 "nbformat_minor": 2
}
