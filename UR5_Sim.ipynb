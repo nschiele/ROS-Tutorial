{
 "cells": [
  {
   "cell_type": "code",
   "execution_count": 1,
   "metadata": {},
   "outputs": [],
   "source": [
    "import rospy\n",
    "import rospkg\n",
    "import roslaunch\n",
    "import rosnode\n",
    "import subprocess\n",
    "roscore_process=subprocess.Popen([\"roscore\"])"
   ]
  },
  {
   "cell_type": "code",
   "execution_count": 2,
   "metadata": {},
   "outputs": [],
   "source": [
    "import helperfunction"
   ]
  },
  {
   "cell_type": "code",
   "execution_count": 4,
   "metadata": {},
   "outputs": [
    {
     "name": "stdout",
     "output_type": "stream",
     "text": [
      "... logging to /home/danb/.ros/log/a7b61380-2495-11e9-bf3f-e0d55ea075ab/roslaunch-AURORA-ML-24303.log\n"
     ]
    }
   ],
   "source": [
    "rospy.init_node('en_Mapping', anonymous=True)\n",
    "uuid = roslaunch.rlutil.get_or_generate_uuid(None, False)\n",
    "roslaunch.configure_logging(uuid)"
   ]
  },
  {
   "cell_type": "code",
   "execution_count": 5,
   "metadata": {},
   "outputs": [
    {
     "name": "stdout",
     "output_type": "stream",
     "text": [
      "\u001b[1mstarted roslaunch server http://AURORA-ML:39727/\u001b[0m\n",
      "\n",
      "SUMMARY\n",
      "========\n",
      "\n",
      "PARAMETERS\n",
      " * /arm_controller/action_monitor_rate: 10\n",
      " * /arm_controller/constraints/elbow_joint/goal: 0.1\n",
      " * /arm_controller/constraints/elbow_joint/trajectory: 0.1\n",
      " * /arm_controller/constraints/goal_time: 0.6\n",
      " * /arm_controller/constraints/shoulder_lift_joint/goal: 0.1\n",
      " * /arm_controller/constraints/shoulder_lift_joint/trajectory: 0.1\n",
      " * /arm_controller/constraints/shoulder_pan_joint/goal: 0.1\n",
      " * /arm_controller/constraints/shoulder_pan_joint/trajectory: 0.1\n",
      " * /arm_controller/constraints/stopped_velocity_tolerance: 0.05\n",
      " * /arm_controller/constraints/wrist_1_joint/goal: 0.1\n",
      " * /arm_controller/constraints/wrist_1_joint/trajectory: 0.1\n",
      " * /arm_controller/constraints/wrist_2_joint/goal: 0.1\n",
      " * /arm_controller/constraints/wrist_2_joint/trajectory: 0.1\n",
      " * /arm_controller/constraints/wrist_3_joint/goal: 0.1\n",
      " * /arm_controller/constraints/wrist_3_joint/trajectory: 0.1\n",
      " * /arm_controller/joints: ['shoulder_pan_jo...\n",
      " * /arm_controller/state_publish_rate: 25\n",
      " * /arm_controller/stop_trajectory_duration: 0.5\n",
      " * /arm_controller/type: position_controll...\n",
      " * /joint_state_controller/publish_rate: 50\n",
      " * /joint_state_controller/type: joint_state_contr...\n",
      " * /move_group/allow_trajectory_execution: True\n",
      " * /move_group/capabilities: move_group/MoveGr...\n",
      " * /move_group/controller_list: [{'action_ns': 'f...\n",
      " * /move_group/endeffector/planner_configs: ['SBLkConfigDefau...\n",
      " * /move_group/jiggle_fraction: 0.05\n",
      " * /move_group/manipulator/longest_valid_segment_fraction: 0.01\n",
      " * /move_group/manipulator/planner_configs: ['SBLkConfigDefau...\n",
      " * /move_group/max_range: 5.0\n",
      " * /move_group/max_safe_path_cost: 1\n",
      " * /move_group/moveit_controller_manager: moveit_simple_con...\n",
      " * /move_group/moveit_manage_controllers: True\n",
      " * /move_group/octomap_resolution: 0.025\n",
      " * /move_group/planner_configs/BKPIECEkConfigDefault/border_fraction: 0.9\n",
      " * /move_group/planner_configs/BKPIECEkConfigDefault/failed_expansion_score_factor: 0.5\n",
      " * /move_group/planner_configs/BKPIECEkConfigDefault/min_valid_path_fraction: 0.5\n",
      " * /move_group/planner_configs/BKPIECEkConfigDefault/range: 0.0\n",
      " * /move_group/planner_configs/BKPIECEkConfigDefault/type: geometric::BKPIECE\n",
      " * /move_group/planner_configs/ESTkConfigDefault/goal_bias: 0.05\n",
      " * /move_group/planner_configs/ESTkConfigDefault/range: 0.0\n",
      " * /move_group/planner_configs/ESTkConfigDefault/type: geometric::EST\n",
      " * /move_group/planner_configs/KPIECEkConfigDefault/border_fraction: 0.9\n",
      " * /move_group/planner_configs/KPIECEkConfigDefault/failed_expansion_score_factor: 0.5\n",
      " * /move_group/planner_configs/KPIECEkConfigDefault/goal_bias: 0.05\n",
      " * /move_group/planner_configs/KPIECEkConfigDefault/min_valid_path_fraction: 0.5\n",
      " * /move_group/planner_configs/KPIECEkConfigDefault/range: 0.0\n",
      " * /move_group/planner_configs/KPIECEkConfigDefault/type: geometric::KPIECE\n",
      " * /move_group/planner_configs/LBKPIECEkConfigDefault/border_fraction: 0.9\n",
      " * /move_group/planner_configs/LBKPIECEkConfigDefault/min_valid_path_fraction: 0.5\n",
      " * /move_group/planner_configs/LBKPIECEkConfigDefault/range: 0.0\n",
      " * /move_group/planner_configs/LBKPIECEkConfigDefault/type: geometric::LBKPIECE\n",
      " * /move_group/planner_configs/PRMkConfigDefault/max_nearest_neighbors: 10\n",
      " * /move_group/planner_configs/PRMkConfigDefault/type: geometric::PRM\n",
      " * /move_group/planner_configs/PRMstarkConfigDefault/type: geometric::PRMstar\n",
      " * /move_group/planner_configs/RRTConnectkConfigDefault/range: 0.0\n",
      " * /move_group/planner_configs/RRTConnectkConfigDefault/type: geometric::RRTCon...\n",
      " * /move_group/planner_configs/RRTkConfigDefault/goal_bias: 0.05\n",
      " * /move_group/planner_configs/RRTkConfigDefault/range: 0.0\n",
      " * /move_group/planner_configs/RRTkConfigDefault/type: geometric::RRT\n",
      " * /move_group/planner_configs/RRTstarkConfigDefault/delay_collision_checking: 1\n",
      " * /move_group/planner_configs/RRTstarkConfigDefault/goal_bias: 0.05\n",
      " * /move_group/planner_configs/RRTstarkConfigDefault/range: 0.0\n",
      " * /move_group/planner_configs/RRTstarkConfigDefault/type: geometric::RRTstar\n",
      " * /move_group/planner_configs/SBLkConfigDefault/range: 0.0\n",
      " * /move_group/planner_configs/SBLkConfigDefault/type: geometric::SBL\n",
      " * /move_group/planner_configs/TRRTkConfigDefault/frountierNodeRatio: 0.1\n",
      " * /move_group/planner_configs/TRRTkConfigDefault/frountier_threshold: 0.0\n",
      " * /move_group/planner_configs/TRRTkConfigDefault/goal_bias: 0.05\n",
      " * /move_group/planner_configs/TRRTkConfigDefault/init_temperature: 10e-6\n",
      " * /move_group/planner_configs/TRRTkConfigDefault/k_constant: 0.0\n",
      " * /move_group/planner_configs/TRRTkConfigDefault/max_states_failed: 10\n",
      " * /move_group/planner_configs/TRRTkConfigDefault/min_temperature: 10e-10\n",
      " * /move_group/planner_configs/TRRTkConfigDefault/range: 0.0\n",
      " * /move_group/planner_configs/TRRTkConfigDefault/temp_change_factor: 2.0\n",
      " * /move_group/planner_configs/TRRTkConfigDefault/type: geometric::TRRT\n",
      " * /move_group/planning_plugin: ompl_interface/OM...\n",
      " * /move_group/planning_scene_monitor/publish_geometry_updates: True\n",
      " * /move_group/planning_scene_monitor/publish_planning_scene: True\n",
      " * /move_group/planning_scene_monitor/publish_state_updates: True\n",
      " * /move_group/planning_scene_monitor/publish_transforms_updates: True\n",
      " * /move_group/request_adapters: default_planner_r...\n",
      " * /move_group/start_state_max_bounds_error: 0.1\n",
      " * /move_group/trajectory_execution/allowed_execution_duration_scaling: 1.2\n",
      " * /move_group/trajectory_execution/allowed_goal_duration_margin: 0.5\n",
      " * /move_group/trajectory_execution/execution_duration_monitoring: False\n",
      " * /move_group/use_controller_manager: False\n",
      " * /red_box_path: /home/danb/repos/...\n",
      " * /robot_description: <?xml version=\"1....\n",
      " * /robot_description_kinematics/manipulator/kinematics_solver: kdl_kinematics_pl...\n",
      " * /robot_description_kinematics/manipulator/kinematics_solver_attempts: 3\n",
      " * /robot_description_kinematics/manipulator/kinematics_solver_search_resolution: 0.005\n",
      " * /robot_description_kinematics/manipulator/kinematics_solver_timeout: 0.005\n",
      " * /robot_description_planning/joint_limits/elbow_joint/has_acceleration_limits: True\n",
      " * /robot_description_planning/joint_limits/elbow_joint/has_velocity_limits: True\n",
      " * /robot_description_planning/joint_limits/elbow_joint/max_acceleration: 3.15\n",
      " * /robot_description_planning/joint_limits/elbow_joint/max_velocity: 3.15\n",
      " * /robot_description_planning/joint_limits/shoulder_lift_joint/has_acceleration_limits: True\n",
      " * /robot_description_planning/joint_limits/shoulder_lift_joint/has_velocity_limits: True\n",
      " * /robot_description_planning/joint_limits/shoulder_lift_joint/max_acceleration: 3.15\n",
      " * /robot_description_planning/joint_limits/shoulder_lift_joint/max_velocity: 3.15\n",
      " * /robot_description_planning/joint_limits/shoulder_pan_joint/has_acceleration_limits: True\n",
      " * /robot_description_planning/joint_limits/shoulder_pan_joint/has_velocity_limits: True\n",
      " * /robot_description_planning/joint_limits/shoulder_pan_joint/max_acceleration: 3.15\n",
      " * /robot_description_planning/joint_limits/shoulder_pan_joint/max_velocity: 3.15\n",
      " * /robot_description_planning/joint_limits/wrist_1_joint/has_acceleration_limits: True\n",
      " * /robot_description_planning/joint_limits/wrist_1_joint/has_velocity_limits: True\n",
      " * /robot_description_planning/joint_limits/wrist_1_joint/max_acceleration: 3.2\n",
      " * /robot_description_planning/joint_limits/wrist_1_joint/max_velocity: 3.2\n",
      " * /robot_description_planning/joint_limits/wrist_2_joint/has_acceleration_limits: True\n",
      " * /robot_description_planning/joint_limits/wrist_2_joint/has_velocity_limits: True\n",
      " * /robot_description_planning/joint_limits/wrist_2_joint/max_acceleration: 3.2\n",
      " * /robot_description_planning/joint_limits/wrist_2_joint/max_velocity: 3.2\n",
      " * /robot_description_planning/joint_limits/wrist_3_joint/has_acceleration_limits: True\n",
      " * /robot_description_planning/joint_limits/wrist_3_joint/has_velocity_limits: True\n",
      " * /robot_description_planning/joint_limits/wrist_3_joint/max_acceleration: 3.2\n",
      " * /robot_description_planning/joint_limits/wrist_3_joint/max_velocity: 3.2\n",
      " * /robot_description_semantic: <?xml version=\"1....\n",
      " * /robot_state_publisher/publish_frequency: 50.0\n",
      " * /robot_state_publisher/tf_prefix: \n",
      " * /rosdistro: kinetic\n",
      " * /rosversion: 1.12.14\n",
      " * /use_sim_time: True\n",
      "\n",
      "NODES\n",
      "  /\n",
      "    arm_controller_spawner (controller_manager/controller_manager)\n",
      "    bin (gazebo_ros/spawn_model)\n",
      "    blocks_poses_publisher (ur5_notebook/blocks_poses_publisher)\n",
      "    blocks_spawner (ur5_notebook/blocks_spawner)\n",
      "    fake_joint_calibration (rostopic/rostopic)\n",
      "    gazebo (gazebo_ros/gzserver)\n",
      "    gazebo_gui (gazebo_ros/gzclient)\n",
      "    joint_state_controller_spawner (controller_manager/controller_manager)\n",
      "    move_group (moveit_ros_move_group/move_group)\n",
      "    robot_state_publisher (robot_state_publisher/robot_state_publisher)\n",
      "    spawn_conveyor_belt (gazebo_ros/spawn_model)\n",
      "    spawn_gazebo_model (gazebo_ros/spawn_model)\n",
      "    ur5_vision (ur5_notebook/ur5_vision.py)\n",
      "\n",
      "\u001b[1mROS_MASTER_URI=http://localhost:11311\u001b[0m\n",
      "\u001b[1mprocess[gazebo-1]: started with pid [24371]\u001b[0m\n",
      "\u001b[1mprocess[gazebo_gui-2]: started with pid [24376]\u001b[0m\n",
      "\u001b[1mprocess[spawn_gazebo_model-3]: started with pid [24382]\u001b[0m\n",
      "\u001b[1mprocess[robot_state_publisher-4]: started with pid [24383]\u001b[0m\n",
      "\u001b[1mprocess[fake_joint_calibration-5]: started with pid [24384]\u001b[0m\n",
      "\u001b[1mprocess[joint_state_controller_spawner-6]: started with pid [24388]\u001b[0m\n",
      "\u001b[1mprocess[arm_controller_spawner-7]: started with pid [24407]\u001b[0m\n",
      "\u001b[1mprocess[move_group-8]: started with pid [24424]\u001b[0m\n",
      "\u001b[1mprocess[spawn_conveyor_belt-9]: started with pid [24428]\u001b[0m\n",
      "\u001b[1mprocess[bin-10]: started with pid [24431]\u001b[0m\n",
      "\u001b[1mprocess[blocks_spawner-11]: started with pid [24432]\u001b[0m\n",
      "\u001b[1mprocess[blocks_poses_publisher-12]: started with pid [24434]\u001b[0m\n",
      "\u001b[1mprocess[ur5_vision-13]: started with pid [24447]\u001b[0m\n",
      "[INFO] [1548858954.272069, 0.000000]: started\n"
     ]
    },
    {
     "name": "stdout",
     "output_type": "stream",
     "text": [
      "\u001b[1m[spawn_conveyor_belt-9] process has finished cleanly\n",
      "log file: /home/danb/.ros/log/a7b61380-2495-11e9-bf3f-e0d55ea075ab/spawn_conveyor_belt-9*.log\u001b[0m\n",
      "\u001b[1m[spawn_gazebo_model-3] process has finished cleanly\n",
      "log file: /home/danb/.ros/log/a7b61380-2495-11e9-bf3f-e0d55ea075ab/spawn_gazebo_model-3*.log\u001b[0m\n",
      "\u001b[1m[arm_controller_spawner-7] process has finished cleanly\n",
      "log file: /home/danb/.ros/log/a7b61380-2495-11e9-bf3f-e0d55ea075ab/arm_controller_spawner-7*.log\u001b[0m\n",
      "\u001b[1m[joint_state_controller_spawner-6] process has finished cleanly\n",
      "log file: /home/danb/.ros/log/a7b61380-2495-11e9-bf3f-e0d55ea075ab/joint_state_controller_spawner-6*.log\u001b[0m\n",
      "\u001b[1m[bin-10] process has finished cleanly\n",
      "log file: /home/danb/.ros/log/a7b61380-2495-11e9-bf3f-e0d55ea075ab/bin-10*.log\u001b[0m\n",
      "\u001b[1m[gazebo_gui-2] process has finished cleanly\n",
      "log file: /home/danb/.ros/log/a7b61380-2495-11e9-bf3f-e0d55ea075ab/gazebo_gui-2*.log\u001b[0m\n"
     ]
    }
   ],
   "source": [
    "launch = roslaunch.parent.ROSLaunchParent(uuid, [helperfunction.launchfile])\n",
    "launch.start()\n",
    "rospy.loginfo(\"started\")"
   ]
  },
  {
   "cell_type": "code",
   "execution_count": 6,
   "metadata": {},
   "outputs": [
    {
     "name": "stdout",
     "output_type": "stream",
     "text": [
      "[ur5_vision-13] killing on exit\n",
      "[blocks_poses_publisher-12] killing on exit\n",
      "[blocks_spawner-11] killing on exit\n",
      "[move_group-8] killing on exit\n",
      "[fake_joint_calibration-5] killing on exit\n",
      "[robot_state_publisher-4] killing on exit\n",
      "[gazebo-1] killing on exit\n"
     ]
    },
    {
     "name": "stderr",
     "output_type": "stream",
     "text": [
      "\u001b[31m[gazebo-1] escalating to SIGTERM\u001b[0m\n"
     ]
    }
   ],
   "source": [
    "launch.shutdown()"
   ]
  },
  {
   "cell_type": "markdown",
   "metadata": {},
   "source": [
    "### Launch Files\n",
    "\n",
    "* add ur5_mp in startup\n",
    "* add ur5_gripper\n"
   ]
  },
  {
   "cell_type": "code",
   "execution_count": null,
   "metadata": {},
   "outputs": [],
   "source": [
    "%load $helperfunction.launchfile"
   ]
  },
  {
   "cell_type": "markdown",
   "metadata": {},
   "source": [
    "### Vision Node\n",
    "\n",
    "Vision Node:\n",
    "* Publish Tracker node\n",
    "* Hat einen Fehler, fixen! (Offset)\n"
   ]
  },
  {
   "cell_type": "code",
   "execution_count": null,
   "metadata": {},
   "outputs": [],
   "source": [
    "%load $helperfunction.ur_vision"
   ]
  },
  {
   "cell_type": "markdown",
   "metadata": {},
   "source": [
    "### Gripper\n",
    "\n",
    "* Service Calls\n",
    "* Subscriber zum Trigger"
   ]
  },
  {
   "cell_type": "code",
   "execution_count": null,
   "metadata": {},
   "outputs": [],
   "source": [
    "%load $helperfunction.ur_gripper"
   ]
  },
  {
   "cell_type": "markdown",
   "metadata": {},
   "source": [
    "### Motion Planner\n",
    "\n",
    "* Implement return to IdlePose"
   ]
  },
  {
   "cell_type": "code",
   "execution_count": null,
   "metadata": {},
   "outputs": [],
   "source": [
    "%load $helperfunction.ur_mp"
   ]
  },
  {
   "cell_type": "markdown",
   "metadata": {},
   "source": [
    "### Add Block_Killer Node\n",
    "\n",
    "* Implementiere deine eigene Node\n",
    "* adde zum Launchfile\n",
    "\n",
    "Wichtige Services:\n",
    "* /gazebo/get_world_properties\n",
    "* /gazebo/delete_model"
   ]
  },
  {
   "cell_type": "code",
   "execution_count": null,
   "metadata": {},
   "outputs": [],
   "source": [
    "%%writefile $helperfunction.killer"
   ]
  },
  {
   "cell_type": "code",
   "execution_count": 67,
   "metadata": {},
   "outputs": [],
   "source": [
    "roscore_process.kill()"
   ]
  }
 ],
 "metadata": {
  "kernelspec": {
   "display_name": "Python 2",
   "language": "python2",
   "name": "python2"
  },
  "language_info": {
   "codemirror_mode": {
    "name": "ipython",
    "version": 2
   },
   "file_extension": ".py",
   "mimetype": "text/x-python",
   "name": "python",
   "nbconvert_exporter": "python",
   "pygments_lexer": "ipython2",
   "version": "2.7.12"
  }
 },
 "nbformat": 4,
 "nbformat_minor": 2
}
