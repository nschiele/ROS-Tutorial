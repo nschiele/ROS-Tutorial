{
 "cells": [
  {
   "cell_type": "markdown",
   "metadata": {},
   "source": [
    "\n",
    "\n",
    "Robot Operating System (ROS) - Was ist denn das?\n",
    "=========================================\n",
    "\n",
    "\n",
    "\n"
   ]
  },
  {
   "cell_type": "markdown",
   "metadata": {},
   "source": [
    "\n",
    "<img src=\"img/artwork-master/ros_logo.svg\" width=\"300\">\n",
    "\n"
   ]
  },
  {
   "cell_type": "markdown",
   "metadata": {},
   "source": [
    "\n",
    "In der Robotik viele akademische und ingenieurwissenschaftliche Ansatze zur Anwendung. Insbesondere die Gebiete der Informatik, Elektrotechnik und Mechanik sind wesentliche Komponenten eines jeden Roboters.\n",
    "\n",
    "Dabei kann sich der mechanische Aufbau eines Roboters sehr schnell ändern - es ist z.B. oft interessant, verschiedene Roboter miteinander zu verbinden, zum Beispiel einen Armmanipulator mit einer autonomen Fahrplattform oder mit einem Fließband. Auch können sich schnell neue Anforderungen an die Sensorik ergeben, sodass für fortgeschrittene Anwendungen Kraftsensoren oder Kamera genutzt werden soll.\n",
    "\n",
    "Diese inherenten Anforderungen an Flexibilität bei der Forschung und Entwicklung in der Robotik erzeugten einen hohen Mehraufwand in der Softwareentwicklung, da jede Änderung in Mechanik oder Elektronik ebenso eine Änderung in der Software nach sich zieht.\n",
    "\n",
    "Durch den modularen Charakter der Hardware vieler Roboter ergibt sich oftmals auch die Anforderung an die Software, verteilte System zu unterstützen, z.B. die Koordination von mehreren autonomen Transportrobotern oder die Koordination mehrerer Armmanipulatoren.\n",
    "\n",
    "Oftmals möchte sich der Entwickler in der Robotik auf ein spezielles Problem konzentrieren, z.B. die Entwicklung eines besseren Pfadplanungsalgorithmus, aber sich nicht auch um die gesamte Hardware bzw. low-level Regelung kümmern."
   ]
  },
  {
   "cell_type": "markdown",
   "metadata": {},
   "source": [
    "### Und wie macht man sich das Leben leichter?\n",
    "\n",
    "\n",
    "![](img/pr2_robot_half_size-large.jpg)\n",
    "*Bild: PR2 Robot* \n",
    "\n",
    "\n",
    "Getrieben von diesen Problemen entwickelten Forscher an der Standford University und bei Willow Garage die ersten Versionen des Robot Operating Systems (ROS) für ihren PR2 Roboter\n",
    "\n",
    "\n",
    "\n",
    "\n",
    "In der weiteren Entwicklung wurden Ziele definiert wie \n",
    "* Modularität und leichte Integration von Komponenten\n",
    "* Weitgehende Unabhängigkeit von der konkreten Hardware erzeugen\n",
    "* Wichtige Werkzeuge für die Entwicklung zur Verfügung stellen\n",
    "* Skalierbarkeit \n",
    "* Free & [Open Source](https://de.wikipedia.org/wiki/Open_Source)\n",
    "\n",
    "Dabei ist die Bezeichnung *Operating System* (OS) nicht korrekt, da ROS, eher eine Middleware (also eine Sammlung von verschiedenen Tools zur Programmierung) ist und auf Linux-basierten open-source Betriebssystemen wie [Ubuntu](https://de.wikipedia.org/wiki/Ubuntu) aufbaut, also selbst eigentlich kein Betriebssytem ist.\n",
    "\n",
    "In den nachfolgenden Tutorials werden wir die Grundkonzepte von ROS kennenlernen und auch konkret anwenden.\n",
    "Diese Konzepte sind nicht komplett einzigartig, sondern finden auch Andwendung in vielen anderen Softwareframeworks oder Betriebssystemen, bei denen Skalierbarkeit und Modularität oft wichtige Anforderungen sind.\n",
    "\n"
   ]
  },
  {
   "cell_type": "markdown",
   "metadata": {},
   "source": [
    "## Ok, cool, aber benutzt das Irgendwer?"
   ]
  },
  {
   "cell_type": "markdown",
   "metadata": {},
   "source": [
    "Eine Menge Roboter werden unterstützt, dabei sind die unterschiedlichsten dabei, z.b.\n",
    "\n",
    "* Traditionelle Roboter in der Industrie, insbesondere Arm-Manipulatoren wie die Universal Robots\n",
    "* Service Robots wie der am Fraunhofer IPA entwickelte Care-o-Bot\n",
    "* Humanoide Roboter wie der NAO von Aldebaran Robotics\n",
    "* Spezielle Roboter wie Shadow Robotics Shadow Hand\n",
    "* Autonome Roboter in schwierigen Bedingungen wie der Heron USV Tauchroboter oder diverse Dronen\n",
    "\n",
    "Eine längere Liste kann man auf [dieser Seite](https://robots.ros.org/) einsehen"
   ]
  },
  {
   "cell_type": "markdown",
   "metadata": {},
   "source": [
    "Mittlerweile hat ROS bereits über 10 Jahre Entwicklungsarbeit hinter sich und wird stetig weiter entwickelt und erfährt viel Unterstützung aus dem Bereich Forschung aber auch aus der Industrie\n",
    "\n",
    "![](img/artwork-master/distributions/collage.jpg)\n",
    "*Bild: Collage der Artworks verschiedener ROS Versionen*\n"
   ]
  },
  {
   "cell_type": "markdown",
   "metadata": {},
   "source": [
    "## Weiter bei [Übung 1](exercise0.ipynb)"
   ]
  }
 ],
 "metadata": {
  "kernelspec": {
   "display_name": "Python 3",
   "language": "python",
   "name": "python3"
  },
  "language_info": {
   "codemirror_mode": {
    "name": "ipython",
    "version": 3
   },
   "file_extension": ".py",
   "mimetype": "text/x-python",
   "name": "python",
   "nbconvert_exporter": "python",
   "pygments_lexer": "ipython3",
   "version": "3.5.2"
  }
 },
 "nbformat": 4,
 "nbformat_minor": 2
}
